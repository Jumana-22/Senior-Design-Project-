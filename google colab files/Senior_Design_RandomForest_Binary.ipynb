{
  "cells": [
    {
      "cell_type": "markdown",
      "metadata": {
        "id": "584Rxw7A6p2c"
      },
      "source": [
        "RandomForest on provided Data set"
      ]
    },
    {
      "cell_type": "code",
      "execution_count": null,
      "metadata": {
        "id": "iezucYHG6am2"
      },
      "outputs": [],
      "source": [
        "import numpy as np\n",
        "import matplotlib.pyplot as plt\n",
        "import pandas as pd\n",
        "import tensorflow as tf\n",
        "import io"
      ]
    },
    {
      "cell_type": "markdown",
      "metadata": {
        "id": "5M38QYk86smb"
      },
      "source": [
        "importing data set"
      ]
    },
    {
      "cell_type": "code",
      "execution_count": null,
      "metadata": {
        "colab": {
          "base_uri": "https://localhost:8080/",
          "height": 74,
          "resources": {
            "http://localhost:8080/nbextensions/google.colab/files.js": {
              "data": "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",
              "headers": [
                [
                  "content-type",
                  "application/javascript"
                ]
              ],
              "ok": true,
              "status": 200,
              "status_text": ""
            }
          }
        },
        "id": "2XBrEj0A6tBK",
        "outputId": "97385e33-cfb5-4403-8f1a-585f2c10e24a"
      },
      "outputs": [
        {
          "output_type": "display_data",
          "data": {
            "text/plain": [
              "<IPython.core.display.HTML object>"
            ],
            "text/html": [
              "\n",
              "     <input type=\"file\" id=\"files-1b670049-f9c2-422b-af4d-3e5976fcd30e\" name=\"files[]\" multiple disabled\n",
              "        style=\"border:none\" />\n",
              "     <output id=\"result-1b670049-f9c2-422b-af4d-3e5976fcd30e\">\n",
              "      Upload widget is only available when the cell has been executed in the\n",
              "      current browser session. Please rerun this cell to enable.\n",
              "      </output>\n",
              "      <script src=\"/nbextensions/google.colab/files.js\"></script> "
            ]
          },
          "metadata": {}
        },
        {
          "output_type": "stream",
          "name": "stdout",
          "text": [
            "Saving sampleDataSet.csv to sampleDataSet (2).csv\n"
          ]
        }
      ],
      "source": [
        "from google.colab import files\n",
        "\n",
        "uploaded = files.upload()"
      ]
    },
    {
      "cell_type": "code",
      "execution_count": null,
      "metadata": {
        "id": "B0A-RaZW4xcX"
      },
      "outputs": [],
      "source": [
        "df = pd.read_csv(io.BytesIO(uploaded[\"sampleDataSet.csv\"]))\n",
        "df = df.dropna()"
      ]
    },
    {
      "cell_type": "code",
      "execution_count": null,
      "metadata": {
        "id": "kEViV4rB4zzH"
      },
      "outputs": [],
      "source": [
        "#df.fruit = pd.Categorical(pd.factorize(df.Class)[0])\n",
        "#df.drop(\"Class\",axis=1, inplace=True)\n",
        "#print (df)"
      ]
    },
    {
      "cell_type": "markdown",
      "metadata": {
        "id": "yEDVODAf62mC"
      },
      "source": [
        "Summary of the data"
      ]
    },
    {
      "cell_type": "code",
      "execution_count": null,
      "metadata": {
        "colab": {
          "base_uri": "https://localhost:8080/",
          "height": 393
        },
        "id": "VX1BleKh625K",
        "outputId": "69ee5e87-382f-4723-fc86-b5a623b67e48"
      },
      "outputs": [
        {
          "output_type": "execute_result",
          "data": {
            "text/plain": [
              "              PP_1         PP_2         PP_3         PP_4         PP_5  \\\n",
              "count   954.000000   954.000000   954.000000   954.000000   954.000000   \n",
              "mean    490.386792   327.951782   593.343816   605.918239   437.979036   \n",
              "std     272.325831   158.696374   283.185784   339.438657   176.433590   \n",
              "min      43.000000   122.000000   167.000000   167.000000   148.000000   \n",
              "25%     264.000000   218.000000   449.250000   415.000000   283.000000   \n",
              "50%     481.000000   272.000000   568.000000   546.500000   421.500000   \n",
              "75%     664.000000   401.000000   699.000000   713.000000   549.750000   \n",
              "max    1980.000000  1353.000000  4881.000000  4966.000000  1333.000000   \n",
              "\n",
              "              PP_6         PP_7         PP_8         PP_9        PP_10  ...  \\\n",
              "count   954.000000   954.000000   954.000000   954.000000   954.000000  ...   \n",
              "mean    370.981132   567.076520   408.036688   282.044025   451.914046  ...   \n",
              "std     160.468221   272.019133   200.229920   115.646466   225.703570  ...   \n",
              "min     130.000000   198.000000   102.000000   142.000000   133.000000  ...   \n",
              "25%     265.000000   402.000000   252.250000   218.000000   300.000000  ...   \n",
              "50%     332.000000   518.000000   382.000000   252.000000   417.000000  ...   \n",
              "75%     431.000000   657.750000   513.000000   317.750000   533.750000  ...   \n",
              "max    1364.000000  3500.000000  2030.000000  1900.000000  3248.000000  ...   \n",
              "\n",
              "              RP_4         RP_5         RP_6         RP_7         RP_8  \\\n",
              "count   954.000000   954.000000   954.000000   954.000000   954.000000   \n",
              "mean    518.970650   360.030398   285.395178   486.812369   325.198113   \n",
              "std     338.762991   170.458693   154.906051   268.550443   194.699288   \n",
              "min      95.000000    84.000000    52.000000   104.000000     4.000000   \n",
              "25%     319.000000   218.000000   184.000000   320.000000   182.000000   \n",
              "50%     463.000000   349.000000   250.000000   437.000000   299.000000   \n",
              "75%     618.000000   471.250000   350.000000   584.500000   432.000000   \n",
              "max    4853.000000  1300.000000  1316.000000  3402.000000  1932.000000   \n",
              "\n",
              "              RP_9        RP_10        RP_11        RP_12        RP_13  \n",
              "count   954.000000   954.000000   954.000000   954.000000   954.000000  \n",
              "mean    189.159329   371.122642   371.638365   346.564990   195.475891  \n",
              "std     115.321803   219.015566   223.089196   150.108448   166.387031  \n",
              "min      38.000000    41.000000   -54.000000    41.000000    35.000000  \n",
              "25%     121.000000   224.000000   184.000000   238.000000   128.250000  \n",
              "50%     160.000000   346.000000   373.000000   330.000000   164.500000  \n",
              "75%     217.000000   451.000000   518.000000   419.000000   219.000000  \n",
              "max    1804.000000  3149.000000  1636.000000  1270.000000  2486.000000  \n",
              "\n",
              "[8 rows x 53 columns]"
            ],
            "text/html": [
              "\n",
              "  <div id=\"df-536c9c07-2ae8-4020-a04c-0c92f2787f35\">\n",
              "    <div class=\"colab-df-container\">\n",
              "      <div>\n",
              "<style scoped>\n",
              "    .dataframe tbody tr th:only-of-type {\n",
              "        vertical-align: middle;\n",
              "    }\n",
              "\n",
              "    .dataframe tbody tr th {\n",
              "        vertical-align: top;\n",
              "    }\n",
              "\n",
              "    .dataframe thead th {\n",
              "        text-align: right;\n",
              "    }\n",
              "</style>\n",
              "<table border=\"1\" class=\"dataframe\">\n",
              "  <thead>\n",
              "    <tr style=\"text-align: right;\">\n",
              "      <th></th>\n",
              "      <th>PP_1</th>\n",
              "      <th>PP_2</th>\n",
              "      <th>PP_3</th>\n",
              "      <th>PP_4</th>\n",
              "      <th>PP_5</th>\n",
              "      <th>PP_6</th>\n",
              "      <th>PP_7</th>\n",
              "      <th>PP_8</th>\n",
              "      <th>PP_9</th>\n",
              "      <th>PP_10</th>\n",
              "      <th>...</th>\n",
              "      <th>RP_4</th>\n",
              "      <th>RP_5</th>\n",
              "      <th>RP_6</th>\n",
              "      <th>RP_7</th>\n",
              "      <th>RP_8</th>\n",
              "      <th>RP_9</th>\n",
              "      <th>RP_10</th>\n",
              "      <th>RP_11</th>\n",
              "      <th>RP_12</th>\n",
              "      <th>RP_13</th>\n",
              "    </tr>\n",
              "  </thead>\n",
              "  <tbody>\n",
              "    <tr>\n",
              "      <th>count</th>\n",
              "      <td>954.000000</td>\n",
              "      <td>954.000000</td>\n",
              "      <td>954.000000</td>\n",
              "      <td>954.000000</td>\n",
              "      <td>954.000000</td>\n",
              "      <td>954.000000</td>\n",
              "      <td>954.000000</td>\n",
              "      <td>954.000000</td>\n",
              "      <td>954.000000</td>\n",
              "      <td>954.000000</td>\n",
              "      <td>...</td>\n",
              "      <td>954.000000</td>\n",
              "      <td>954.000000</td>\n",
              "      <td>954.000000</td>\n",
              "      <td>954.000000</td>\n",
              "      <td>954.000000</td>\n",
              "      <td>954.000000</td>\n",
              "      <td>954.000000</td>\n",
              "      <td>954.000000</td>\n",
              "      <td>954.000000</td>\n",
              "      <td>954.000000</td>\n",
              "    </tr>\n",
              "    <tr>\n",
              "      <th>mean</th>\n",
              "      <td>490.386792</td>\n",
              "      <td>327.951782</td>\n",
              "      <td>593.343816</td>\n",
              "      <td>605.918239</td>\n",
              "      <td>437.979036</td>\n",
              "      <td>370.981132</td>\n",
              "      <td>567.076520</td>\n",
              "      <td>408.036688</td>\n",
              "      <td>282.044025</td>\n",
              "      <td>451.914046</td>\n",
              "      <td>...</td>\n",
              "      <td>518.970650</td>\n",
              "      <td>360.030398</td>\n",
              "      <td>285.395178</td>\n",
              "      <td>486.812369</td>\n",
              "      <td>325.198113</td>\n",
              "      <td>189.159329</td>\n",
              "      <td>371.122642</td>\n",
              "      <td>371.638365</td>\n",
              "      <td>346.564990</td>\n",
              "      <td>195.475891</td>\n",
              "    </tr>\n",
              "    <tr>\n",
              "      <th>std</th>\n",
              "      <td>272.325831</td>\n",
              "      <td>158.696374</td>\n",
              "      <td>283.185784</td>\n",
              "      <td>339.438657</td>\n",
              "      <td>176.433590</td>\n",
              "      <td>160.468221</td>\n",
              "      <td>272.019133</td>\n",
              "      <td>200.229920</td>\n",
              "      <td>115.646466</td>\n",
              "      <td>225.703570</td>\n",
              "      <td>...</td>\n",
              "      <td>338.762991</td>\n",
              "      <td>170.458693</td>\n",
              "      <td>154.906051</td>\n",
              "      <td>268.550443</td>\n",
              "      <td>194.699288</td>\n",
              "      <td>115.321803</td>\n",
              "      <td>219.015566</td>\n",
              "      <td>223.089196</td>\n",
              "      <td>150.108448</td>\n",
              "      <td>166.387031</td>\n",
              "    </tr>\n",
              "    <tr>\n",
              "      <th>min</th>\n",
              "      <td>43.000000</td>\n",
              "      <td>122.000000</td>\n",
              "      <td>167.000000</td>\n",
              "      <td>167.000000</td>\n",
              "      <td>148.000000</td>\n",
              "      <td>130.000000</td>\n",
              "      <td>198.000000</td>\n",
              "      <td>102.000000</td>\n",
              "      <td>142.000000</td>\n",
              "      <td>133.000000</td>\n",
              "      <td>...</td>\n",
              "      <td>95.000000</td>\n",
              "      <td>84.000000</td>\n",
              "      <td>52.000000</td>\n",
              "      <td>104.000000</td>\n",
              "      <td>4.000000</td>\n",
              "      <td>38.000000</td>\n",
              "      <td>41.000000</td>\n",
              "      <td>-54.000000</td>\n",
              "      <td>41.000000</td>\n",
              "      <td>35.000000</td>\n",
              "    </tr>\n",
              "    <tr>\n",
              "      <th>25%</th>\n",
              "      <td>264.000000</td>\n",
              "      <td>218.000000</td>\n",
              "      <td>449.250000</td>\n",
              "      <td>415.000000</td>\n",
              "      <td>283.000000</td>\n",
              "      <td>265.000000</td>\n",
              "      <td>402.000000</td>\n",
              "      <td>252.250000</td>\n",
              "      <td>218.000000</td>\n",
              "      <td>300.000000</td>\n",
              "      <td>...</td>\n",
              "      <td>319.000000</td>\n",
              "      <td>218.000000</td>\n",
              "      <td>184.000000</td>\n",
              "      <td>320.000000</td>\n",
              "      <td>182.000000</td>\n",
              "      <td>121.000000</td>\n",
              "      <td>224.000000</td>\n",
              "      <td>184.000000</td>\n",
              "      <td>238.000000</td>\n",
              "      <td>128.250000</td>\n",
              "    </tr>\n",
              "    <tr>\n",
              "      <th>50%</th>\n",
              "      <td>481.000000</td>\n",
              "      <td>272.000000</td>\n",
              "      <td>568.000000</td>\n",
              "      <td>546.500000</td>\n",
              "      <td>421.500000</td>\n",
              "      <td>332.000000</td>\n",
              "      <td>518.000000</td>\n",
              "      <td>382.000000</td>\n",
              "      <td>252.000000</td>\n",
              "      <td>417.000000</td>\n",
              "      <td>...</td>\n",
              "      <td>463.000000</td>\n",
              "      <td>349.000000</td>\n",
              "      <td>250.000000</td>\n",
              "      <td>437.000000</td>\n",
              "      <td>299.000000</td>\n",
              "      <td>160.000000</td>\n",
              "      <td>346.000000</td>\n",
              "      <td>373.000000</td>\n",
              "      <td>330.000000</td>\n",
              "      <td>164.500000</td>\n",
              "    </tr>\n",
              "    <tr>\n",
              "      <th>75%</th>\n",
              "      <td>664.000000</td>\n",
              "      <td>401.000000</td>\n",
              "      <td>699.000000</td>\n",
              "      <td>713.000000</td>\n",
              "      <td>549.750000</td>\n",
              "      <td>431.000000</td>\n",
              "      <td>657.750000</td>\n",
              "      <td>513.000000</td>\n",
              "      <td>317.750000</td>\n",
              "      <td>533.750000</td>\n",
              "      <td>...</td>\n",
              "      <td>618.000000</td>\n",
              "      <td>471.250000</td>\n",
              "      <td>350.000000</td>\n",
              "      <td>584.500000</td>\n",
              "      <td>432.000000</td>\n",
              "      <td>217.000000</td>\n",
              "      <td>451.000000</td>\n",
              "      <td>518.000000</td>\n",
              "      <td>419.000000</td>\n",
              "      <td>219.000000</td>\n",
              "    </tr>\n",
              "    <tr>\n",
              "      <th>max</th>\n",
              "      <td>1980.000000</td>\n",
              "      <td>1353.000000</td>\n",
              "      <td>4881.000000</td>\n",
              "      <td>4966.000000</td>\n",
              "      <td>1333.000000</td>\n",
              "      <td>1364.000000</td>\n",
              "      <td>3500.000000</td>\n",
              "      <td>2030.000000</td>\n",
              "      <td>1900.000000</td>\n",
              "      <td>3248.000000</td>\n",
              "      <td>...</td>\n",
              "      <td>4853.000000</td>\n",
              "      <td>1300.000000</td>\n",
              "      <td>1316.000000</td>\n",
              "      <td>3402.000000</td>\n",
              "      <td>1932.000000</td>\n",
              "      <td>1804.000000</td>\n",
              "      <td>3149.000000</td>\n",
              "      <td>1636.000000</td>\n",
              "      <td>1270.000000</td>\n",
              "      <td>2486.000000</td>\n",
              "    </tr>\n",
              "  </tbody>\n",
              "</table>\n",
              "<p>8 rows × 53 columns</p>\n",
              "</div>\n",
              "      <button class=\"colab-df-convert\" onclick=\"convertToInteractive('df-536c9c07-2ae8-4020-a04c-0c92f2787f35')\"\n",
              "              title=\"Convert this dataframe to an interactive table.\"\n",
              "              style=\"display:none;\">\n",
              "        \n",
              "  <svg xmlns=\"http://www.w3.org/2000/svg\" height=\"24px\"viewBox=\"0 0 24 24\"\n",
              "       width=\"24px\">\n",
              "    <path d=\"M0 0h24v24H0V0z\" fill=\"none\"/>\n",
              "    <path d=\"M18.56 5.44l.94 2.06.94-2.06 2.06-.94-2.06-.94-.94-2.06-.94 2.06-2.06.94zm-11 1L8.5 8.5l.94-2.06 2.06-.94-2.06-.94L8.5 2.5l-.94 2.06-2.06.94zm10 10l.94 2.06.94-2.06 2.06-.94-2.06-.94-.94-2.06-.94 2.06-2.06.94z\"/><path d=\"M17.41 7.96l-1.37-1.37c-.4-.4-.92-.59-1.43-.59-.52 0-1.04.2-1.43.59L10.3 9.45l-7.72 7.72c-.78.78-.78 2.05 0 2.83L4 21.41c.39.39.9.59 1.41.59.51 0 1.02-.2 1.41-.59l7.78-7.78 2.81-2.81c.8-.78.8-2.07 0-2.86zM5.41 20L4 18.59l7.72-7.72 1.47 1.35L5.41 20z\"/>\n",
              "  </svg>\n",
              "      </button>\n",
              "      \n",
              "  <style>\n",
              "    .colab-df-container {\n",
              "      display:flex;\n",
              "      flex-wrap:wrap;\n",
              "      gap: 12px;\n",
              "    }\n",
              "\n",
              "    .colab-df-convert {\n",
              "      background-color: #E8F0FE;\n",
              "      border: none;\n",
              "      border-radius: 50%;\n",
              "      cursor: pointer;\n",
              "      display: none;\n",
              "      fill: #1967D2;\n",
              "      height: 32px;\n",
              "      padding: 0 0 0 0;\n",
              "      width: 32px;\n",
              "    }\n",
              "\n",
              "    .colab-df-convert:hover {\n",
              "      background-color: #E2EBFA;\n",
              "      box-shadow: 0px 1px 2px rgba(60, 64, 67, 0.3), 0px 1px 3px 1px rgba(60, 64, 67, 0.15);\n",
              "      fill: #174EA6;\n",
              "    }\n",
              "\n",
              "    [theme=dark] .colab-df-convert {\n",
              "      background-color: #3B4455;\n",
              "      fill: #D2E3FC;\n",
              "    }\n",
              "\n",
              "    [theme=dark] .colab-df-convert:hover {\n",
              "      background-color: #434B5C;\n",
              "      box-shadow: 0px 1px 3px 1px rgba(0, 0, 0, 0.15);\n",
              "      filter: drop-shadow(0px 1px 2px rgba(0, 0, 0, 0.3));\n",
              "      fill: #FFFFFF;\n",
              "    }\n",
              "  </style>\n",
              "\n",
              "      <script>\n",
              "        const buttonEl =\n",
              "          document.querySelector('#df-536c9c07-2ae8-4020-a04c-0c92f2787f35 button.colab-df-convert');\n",
              "        buttonEl.style.display =\n",
              "          google.colab.kernel.accessAllowed ? 'block' : 'none';\n",
              "\n",
              "        async function convertToInteractive(key) {\n",
              "          const element = document.querySelector('#df-536c9c07-2ae8-4020-a04c-0c92f2787f35');\n",
              "          const dataTable =\n",
              "            await google.colab.kernel.invokeFunction('convertToInteractive',\n",
              "                                                     [key], {});\n",
              "          if (!dataTable) return;\n",
              "\n",
              "          const docLinkHtml = 'Like what you see? Visit the ' +\n",
              "            '<a target=\"_blank\" href=https://colab.research.google.com/notebooks/data_table.ipynb>data table notebook</a>'\n",
              "            + ' to learn more about interactive tables.';\n",
              "          element.innerHTML = '';\n",
              "          dataTable['output_type'] = 'display_data';\n",
              "          await google.colab.output.renderOutput(dataTable, element);\n",
              "          const docLink = document.createElement('div');\n",
              "          docLink.innerHTML = docLinkHtml;\n",
              "          element.appendChild(docLink);\n",
              "        }\n",
              "      </script>\n",
              "    </div>\n",
              "  </div>\n",
              "  "
            ]
          },
          "metadata": {},
          "execution_count": 41
        }
      ],
      "source": [
        "df.describe()"
      ]
    },
    {
      "cell_type": "markdown",
      "metadata": {
        "id": "0YVHyeV9ZwPX"
      },
      "source": [
        "Creating Binary Classiication "
      ]
    },
    {
      "cell_type": "code",
      "execution_count": null,
      "metadata": {
        "colab": {
          "base_uri": "https://localhost:8080/"
        },
        "id": "Dq_MQAoEZyuY",
        "outputId": "04fe816b-a0d8-4d7a-842e-5fc672df8321"
      },
      "outputs": [
        {
          "output_type": "execute_result",
          "data": {
            "text/plain": [
              "array(['A', 'B', 'C', 'D', 'E', 'F', 'G', 'H', 'I', 'J', 'K', 'L', 'M',\n",
              "       'N', 'O', 'P', 'Q', 'R', 'S', 'T', 'U', 'V', 'W', 'X', 'Y', 'Z',\n",
              "       'AA', 'BB', 'CC', 'DD', 'EE', 'FF', 'GG', 'HH', 'II', 'JJ', 'KK',\n",
              "       'LL', 'MM', 'NN', 'OO', 'PP', 'QQ', 'RR', 'SS', 'TT', 'UU', 'V V',\n",
              "       'WW', 'XX', 'YY'], dtype=object)"
            ]
          },
          "metadata": {},
          "execution_count": 42
        }
      ],
      "source": [
        "df.Class.unique()"
      ]
    },
    {
      "cell_type": "code",
      "execution_count": null,
      "metadata": {
        "id": "h6t5RttuZzIf"
      },
      "outputs": [],
      "source": [
        "list_to_replace=[\n",
        "    'B', 'C', 'D', 'E', 'F', 'G', 'H', 'I', 'J', 'K', 'L', 'M',\n",
        "       'N', 'O', 'P', 'Q', 'R', 'S', 'T', 'U', 'V', 'W', 'X', 'Y', 'Z',\n",
        "       'AA', 'BB', 'CC', 'DD', 'EE', 'FF', 'GG', 'HH', 'II', 'JJ', 'KK',\n",
        "       'LL', 'MM', 'NN', 'OO', 'PP', 'QQ', 'RR', 'SS', 'TT', 'UU', 'V V',\n",
        "       'WW', 'XX', 'YY'\n",
        "]\n",
        "\n",
        "list_replaced_with=[1 for i in range(len(list_to_replace))]"
      ]
    },
    {
      "cell_type": "code",
      "execution_count": null,
      "metadata": {
        "id": "POTAVPASZzV_"
      },
      "outputs": [],
      "source": [
        "df[['Class']] = df[['Class']].replace(list_to_replace, list_replaced_with)"
      ]
    },
    {
      "cell_type": "code",
      "source": [
        "df[['Class']] = df[['Class']].replace([\"A\"], [0])"
      ],
      "metadata": {
        "id": "rmaukBKBcqro"
      },
      "execution_count": null,
      "outputs": []
    },
    {
      "cell_type": "markdown",
      "source": [
        ""
      ],
      "metadata": {
        "id": "YvVKoUnJh-qT"
      }
    },
    {
      "cell_type": "markdown",
      "metadata": {
        "id": "8wzMiklP7Eiy"
      },
      "source": [
        "Splitting the attributes from the label"
      ]
    },
    {
      "cell_type": "code",
      "execution_count": null,
      "metadata": {
        "id": "V1CPvD3_5FVf"
      },
      "outputs": [],
      "source": [
        "x = df.iloc[:, :-1].values\n",
        "y = df.iloc[:, -1].values"
      ]
    },
    {
      "cell_type": "markdown",
      "metadata": {
        "id": "S1NT3YGp5UQ_"
      },
      "source": [
        "Splitting data for training and testing 80/20"
      ]
    },
    {
      "cell_type": "code",
      "execution_count": null,
      "metadata": {
        "id": "MN5FRlv05MqP"
      },
      "outputs": [],
      "source": [
        "from sklearn.model_selection import train_test_split\n",
        "\n",
        "x_train, x_test, y_train, y_test = train_test_split(x, y, test_size=0.40)"
      ]
    },
    {
      "cell_type": "markdown",
      "metadata": {
        "id": "Dzwqko0N5Wnm"
      },
      "source": [
        "Normailizing values"
      ]
    },
    {
      "cell_type": "code",
      "execution_count": null,
      "metadata": {
        "id": "mMjxB3U15PmP"
      },
      "outputs": [],
      "source": [
        "x_train = tf.keras.utils.normalize(x_train, axis=1)\n",
        "x_test = tf.keras.utils.normalize(x_test, axis=1)\n"
      ]
    },
    {
      "cell_type": "markdown",
      "metadata": {
        "id": "LWQMWh9O5Y8o"
      },
      "source": [
        "Byulding ml model "
      ]
    },
    {
      "cell_type": "code",
      "execution_count": null,
      "metadata": {
        "colab": {
          "base_uri": "https://localhost:8080/"
        },
        "id": "eCq2wMeJ5bJ1",
        "outputId": "e850b1df-9c5c-43f6-d446-894ce50a1744"
      },
      "outputs": [
        {
          "output_type": "execute_result",
          "data": {
            "text/plain": [
              "RandomForestClassifier()"
            ]
          },
          "metadata": {},
          "execution_count": 49
        }
      ],
      "source": [
        "from sklearn.ensemble import RandomForestClassifier as rf\n",
        "import sklearn\n",
        "\n",
        "clf = rf(n_estimators = 100)\n",
        "clf.fit(x,y)"
      ]
    },
    {
      "cell_type": "code",
      "execution_count": null,
      "metadata": {
        "colab": {
          "base_uri": "https://localhost:8080/"
        },
        "id": "NsivWZU85sVP",
        "outputId": "a9aec074-0725-4e57-afc9-e867dec84731"
      },
      "outputs": [
        {
          "output_type": "execute_result",
          "data": {
            "text/plain": [
              "0.9765019547168771"
            ]
          },
          "metadata": {},
          "execution_count": 51
        }
      ],
      "source": [
        "clf = rf(n_estimators = 100)\n",
        "clf.fit(x_train, y_train)\n",
        "pred = clf.predict(x_test)\n",
        "sklearn.metrics.f1_score(y_test, pred, average='weighted')"
      ]
    },
    {
      "cell_type": "code",
      "source": [
        "from sklearn.metrics import classification_report, confusion_matrix\n",
        "\n",
        "print(classification_report(y_test, pred))\n",
        "print(confusion_matrix(y_test, pred))"
      ],
      "metadata": {
        "colab": {
          "base_uri": "https://localhost:8080/"
        },
        "id": "2X2GnvLCdJDZ",
        "outputId": "55c40f5d-dfe0-49c7-d3d1-0bf251421ff6"
      },
      "execution_count": null,
      "outputs": [
        {
          "output_type": "stream",
          "name": "stdout",
          "text": [
            "              precision    recall  f1-score   support\n",
            "\n",
            "           0       0.00      0.00      0.00         6\n",
            "           1       0.98      1.00      0.99       376\n",
            "\n",
            "    accuracy                           0.98       382\n",
            "   macro avg       0.49      0.50      0.50       382\n",
            "weighted avg       0.97      0.98      0.98       382\n",
            "\n",
            "[[  0   6]\n",
            " [  0 376]]\n"
          ]
        },
        {
          "output_type": "stream",
          "name": "stderr",
          "text": [
            "/usr/local/lib/python3.7/dist-packages/sklearn/metrics/_classification.py:1318: UndefinedMetricWarning: Precision and F-score are ill-defined and being set to 0.0 in labels with no predicted samples. Use `zero_division` parameter to control this behavior.\n",
            "  _warn_prf(average, modifier, msg_start, len(result))\n",
            "/usr/local/lib/python3.7/dist-packages/sklearn/metrics/_classification.py:1318: UndefinedMetricWarning: Precision and F-score are ill-defined and being set to 0.0 in labels with no predicted samples. Use `zero_division` parameter to control this behavior.\n",
            "  _warn_prf(average, modifier, msg_start, len(result))\n",
            "/usr/local/lib/python3.7/dist-packages/sklearn/metrics/_classification.py:1318: UndefinedMetricWarning: Precision and F-score are ill-defined and being set to 0.0 in labels with no predicted samples. Use `zero_division` parameter to control this behavior.\n",
            "  _warn_prf(average, modifier, msg_start, len(result))\n"
          ]
        }
      ]
    },
    {
      "cell_type": "code",
      "execution_count": null,
      "metadata": {
        "id": "ruCob4B15yDI",
        "colab": {
          "base_uri": "https://localhost:8080/"
        },
        "outputId": "a9658120-4964-48b8-c316-c1fd7f1b98f4"
      },
      "outputs": [
        {
          "output_type": "stream",
          "name": "stdout",
          "text": [
            "[0.968697193828084, 0.9898060964757983, 0.9796436457566625, 0.9707917285819435, 0.9822795766068676, 0.9492474257708745, 0.9531302216776205, 0.964800110953157, 0.9609065785270877, 0.9822795766068676]\n"
          ]
        }
      ],
      "source": [
        "#new testing method using cross-validation\n",
        "scores = []\n",
        "for i in range(10):\n",
        "    x_train, x_test, y_train, y_test = train_test_split(x,y,test_size=0.4)\n",
        "    clf = rf(n_estimators = 1000)\n",
        "    clf.fit(x_train, y_train)\n",
        "    pred = clf.predict(x_test)\n",
        "    scores.append(sklearn.metrics.f1_score(y_test, pred, average='weighted'))\n",
        "\n",
        "print(scores)"
      ]
    },
    {
      "cell_type": "code",
      "execution_count": null,
      "metadata": {
        "id": "Ye0BM2bm6oln",
        "colab": {
          "base_uri": "https://localhost:8080/"
        },
        "outputId": "f4408839-2305-4479-8119-0b54c6f8f3fe"
      },
      "outputs": [
        {
          "output_type": "execute_result",
          "data": {
            "text/plain": [
              "0.9701582154784963"
            ]
          },
          "metadata": {},
          "execution_count": 36
        }
      ],
      "source": [
        "sum(scores)/ len(scores) #average score"
      ]
    }
  ],
  "metadata": {
    "colab": {
      "collapsed_sections": [],
      "name": "Senior Design-RandomForest-Binary.ipynb",
      "provenance": []
    },
    "kernelspec": {
      "display_name": "Python 3",
      "name": "python3"
    },
    "language_info": {
      "name": "python"
    }
  },
  "nbformat": 4,
  "nbformat_minor": 0
}
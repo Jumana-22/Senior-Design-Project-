{
  "cells": [
    {
      "cell_type": "markdown",
      "metadata": {
        "id": "6P7XD3e95wVr"
      },
      "source": [
        "# Knn algorithm on provided data set"
      ]
    },
    {
      "cell_type": "code",
      "execution_count": null,
      "metadata": {
        "id": "RIGBozAF2JSF"
      },
      "outputs": [],
      "source": [
        "import numpy as np\n",
        "import matplotlib.pyplot as plt\n",
        "import pandas as pd\n",
        "import io"
      ]
    },
    {
      "cell_type": "markdown",
      "metadata": {
        "id": "TTDIRkATy8PG"
      },
      "source": [
        "import data set from local drive"
      ]
    },
    {
      "cell_type": "code",
      "execution_count": null,
      "metadata": {
        "colab": {
          "base_uri": "https://localhost:8080/",
          "height": 74,
          "resources": {
            "http://localhost:8080/nbextensions/google.colab/files.js": {
              "data": "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",
              "headers": [
                [
                  "content-type",
                  "application/javascript"
                ]
              ],
              "ok": true,
              "status": 200,
              "status_text": ""
            }
          }
        },
        "id": "hGUiFzkP5rCC",
        "outputId": "2bdfac79-8841-4f2f-c467-845a58c989d4"
      },
      "outputs": [
        {
          "output_type": "display_data",
          "data": {
            "text/plain": [
              "<IPython.core.display.HTML object>"
            ],
            "text/html": [
              "\n",
              "     <input type=\"file\" id=\"files-d3c6aa73-a3f6-4cfc-b3c5-75b2daea3b43\" name=\"files[]\" multiple disabled\n",
              "        style=\"border:none\" />\n",
              "     <output id=\"result-d3c6aa73-a3f6-4cfc-b3c5-75b2daea3b43\">\n",
              "      Upload widget is only available when the cell has been executed in the\n",
              "      current browser session. Please rerun this cell to enable.\n",
              "      </output>\n",
              "      <script src=\"/nbextensions/google.colab/files.js\"></script> "
            ]
          },
          "metadata": {}
        },
        {
          "output_type": "stream",
          "name": "stdout",
          "text": [
            "Saving dataFile.csv to dataFile (2).csv\n"
          ]
        }
      ],
      "source": [
        "from google.colab import files\n",
        "\n",
        "uploaded = files.upload()"
      ]
    },
    {
      "cell_type": "code",
      "execution_count": null,
      "metadata": {
        "id": "assNuSXwyMoW"
      },
      "outputs": [],
      "source": [
        "df = pd.read_csv(io.BytesIO(uploaded[\"dataFile.csv\"]))\n",
        "df = df.dropna()"
      ]
    },
    {
      "cell_type": "markdown",
      "metadata": {
        "id": "XxACF-0TzFzF"
      },
      "source": [
        "Summary of data"
      ]
    },
    {
      "cell_type": "code",
      "execution_count": null,
      "metadata": {
        "colab": {
          "base_uri": "https://localhost:8080/",
          "height": 364
        },
        "id": "nvboH5tjzICN",
        "outputId": "00defce6-7d19-4d83-cc71-d9019baa3cb3"
      },
      "outputs": [
        {
          "output_type": "execute_result",
          "data": {
            "text/plain": [
              "               x1          x2          x3          x4          x5          x6  \\\n",
              "count   90.000000   90.000000   90.000000   90.000000   90.000000   90.000000   \n",
              "mean    90.955556  185.622222  282.000000   87.255556  190.988889  280.411111   \n",
              "std      9.313408   10.131249   11.451902   10.781342   10.726942   10.674862   \n",
              "min     68.000000  163.000000  259.000000   62.000000  167.000000  257.000000   \n",
              "25%     84.250000  180.000000  276.250000   81.000000  184.250000  273.000000   \n",
              "50%     91.500000  185.000000  282.000000   87.000000  191.000000  283.000000   \n",
              "75%     98.000000  191.000000  290.000000   94.000000  198.000000  288.000000   \n",
              "max    111.000000  221.000000  308.000000  116.000000  219.000000  302.000000   \n",
              "\n",
              "               y1          y2          y3          y4          y5          y6  \\\n",
              "count   90.000000   90.000000   90.000000   90.000000   90.000000   90.000000   \n",
              "mean   203.744444  206.411111  202.800000  304.877778  303.988889  300.277778   \n",
              "std      9.383899    8.551095    7.341126    8.873427    8.451440   10.801610   \n",
              "min    179.000000  188.000000  183.000000  281.000000  281.000000  279.000000   \n",
              "25%    198.000000  200.250000  198.000000  300.000000  300.000000  294.250000   \n",
              "50%    203.500000  206.000000  203.000000  305.000000  304.000000  301.000000   \n",
              "75%    211.000000  212.000000  207.750000  311.750000  309.000000  308.000000   \n",
              "max    223.000000  227.000000  218.000000  325.000000  327.000000  327.000000   \n",
              "\n",
              "                  t1             t2             t3             t4  \\\n",
              "count      90.000000      90.000000      90.000000      90.000000   \n",
              "mean   284714.066667  264486.344444  327512.722222  259403.122222   \n",
              "std     82234.771360   76436.961771  103673.418802   80640.244764   \n",
              "min     92169.000000  141156.000000  114745.000000   96995.000000   \n",
              "25%    222979.000000  215397.250000  258550.000000  211595.250000   \n",
              "50%    287433.000000  245626.500000  338198.000000  258897.000000   \n",
              "75%    349784.250000  299856.750000  392341.000000  316568.250000   \n",
              "max    464097.000000  589453.000000  682039.000000  449794.000000   \n",
              "\n",
              "                  t5  \n",
              "count      90.000000  \n",
              "mean   255578.488889  \n",
              "std     85484.595498  \n",
              "min    153869.000000  \n",
              "25%    199650.000000  \n",
              "50%    233338.000000  \n",
              "75%    289257.000000  \n",
              "max    756373.000000  "
            ],
            "text/html": [
              "\n",
              "  <div id=\"df-bab5e61d-c98b-4e83-8b94-543429904896\">\n",
              "    <div class=\"colab-df-container\">\n",
              "      <div>\n",
              "<style scoped>\n",
              "    .dataframe tbody tr th:only-of-type {\n",
              "        vertical-align: middle;\n",
              "    }\n",
              "\n",
              "    .dataframe tbody tr th {\n",
              "        vertical-align: top;\n",
              "    }\n",
              "\n",
              "    .dataframe thead th {\n",
              "        text-align: right;\n",
              "    }\n",
              "</style>\n",
              "<table border=\"1\" class=\"dataframe\">\n",
              "  <thead>\n",
              "    <tr style=\"text-align: right;\">\n",
              "      <th></th>\n",
              "      <th>x1</th>\n",
              "      <th>x2</th>\n",
              "      <th>x3</th>\n",
              "      <th>x4</th>\n",
              "      <th>x5</th>\n",
              "      <th>x6</th>\n",
              "      <th>y1</th>\n",
              "      <th>y2</th>\n",
              "      <th>y3</th>\n",
              "      <th>y4</th>\n",
              "      <th>y5</th>\n",
              "      <th>y6</th>\n",
              "      <th>t1</th>\n",
              "      <th>t2</th>\n",
              "      <th>t3</th>\n",
              "      <th>t4</th>\n",
              "      <th>t5</th>\n",
              "    </tr>\n",
              "  </thead>\n",
              "  <tbody>\n",
              "    <tr>\n",
              "      <th>count</th>\n",
              "      <td>90.000000</td>\n",
              "      <td>90.000000</td>\n",
              "      <td>90.000000</td>\n",
              "      <td>90.000000</td>\n",
              "      <td>90.000000</td>\n",
              "      <td>90.000000</td>\n",
              "      <td>90.000000</td>\n",
              "      <td>90.000000</td>\n",
              "      <td>90.000000</td>\n",
              "      <td>90.000000</td>\n",
              "      <td>90.000000</td>\n",
              "      <td>90.000000</td>\n",
              "      <td>90.000000</td>\n",
              "      <td>90.000000</td>\n",
              "      <td>90.000000</td>\n",
              "      <td>90.000000</td>\n",
              "      <td>90.000000</td>\n",
              "    </tr>\n",
              "    <tr>\n",
              "      <th>mean</th>\n",
              "      <td>90.955556</td>\n",
              "      <td>185.622222</td>\n",
              "      <td>282.000000</td>\n",
              "      <td>87.255556</td>\n",
              "      <td>190.988889</td>\n",
              "      <td>280.411111</td>\n",
              "      <td>203.744444</td>\n",
              "      <td>206.411111</td>\n",
              "      <td>202.800000</td>\n",
              "      <td>304.877778</td>\n",
              "      <td>303.988889</td>\n",
              "      <td>300.277778</td>\n",
              "      <td>284714.066667</td>\n",
              "      <td>264486.344444</td>\n",
              "      <td>327512.722222</td>\n",
              "      <td>259403.122222</td>\n",
              "      <td>255578.488889</td>\n",
              "    </tr>\n",
              "    <tr>\n",
              "      <th>std</th>\n",
              "      <td>9.313408</td>\n",
              "      <td>10.131249</td>\n",
              "      <td>11.451902</td>\n",
              "      <td>10.781342</td>\n",
              "      <td>10.726942</td>\n",
              "      <td>10.674862</td>\n",
              "      <td>9.383899</td>\n",
              "      <td>8.551095</td>\n",
              "      <td>7.341126</td>\n",
              "      <td>8.873427</td>\n",
              "      <td>8.451440</td>\n",
              "      <td>10.801610</td>\n",
              "      <td>82234.771360</td>\n",
              "      <td>76436.961771</td>\n",
              "      <td>103673.418802</td>\n",
              "      <td>80640.244764</td>\n",
              "      <td>85484.595498</td>\n",
              "    </tr>\n",
              "    <tr>\n",
              "      <th>min</th>\n",
              "      <td>68.000000</td>\n",
              "      <td>163.000000</td>\n",
              "      <td>259.000000</td>\n",
              "      <td>62.000000</td>\n",
              "      <td>167.000000</td>\n",
              "      <td>257.000000</td>\n",
              "      <td>179.000000</td>\n",
              "      <td>188.000000</td>\n",
              "      <td>183.000000</td>\n",
              "      <td>281.000000</td>\n",
              "      <td>281.000000</td>\n",
              "      <td>279.000000</td>\n",
              "      <td>92169.000000</td>\n",
              "      <td>141156.000000</td>\n",
              "      <td>114745.000000</td>\n",
              "      <td>96995.000000</td>\n",
              "      <td>153869.000000</td>\n",
              "    </tr>\n",
              "    <tr>\n",
              "      <th>25%</th>\n",
              "      <td>84.250000</td>\n",
              "      <td>180.000000</td>\n",
              "      <td>276.250000</td>\n",
              "      <td>81.000000</td>\n",
              "      <td>184.250000</td>\n",
              "      <td>273.000000</td>\n",
              "      <td>198.000000</td>\n",
              "      <td>200.250000</td>\n",
              "      <td>198.000000</td>\n",
              "      <td>300.000000</td>\n",
              "      <td>300.000000</td>\n",
              "      <td>294.250000</td>\n",
              "      <td>222979.000000</td>\n",
              "      <td>215397.250000</td>\n",
              "      <td>258550.000000</td>\n",
              "      <td>211595.250000</td>\n",
              "      <td>199650.000000</td>\n",
              "    </tr>\n",
              "    <tr>\n",
              "      <th>50%</th>\n",
              "      <td>91.500000</td>\n",
              "      <td>185.000000</td>\n",
              "      <td>282.000000</td>\n",
              "      <td>87.000000</td>\n",
              "      <td>191.000000</td>\n",
              "      <td>283.000000</td>\n",
              "      <td>203.500000</td>\n",
              "      <td>206.000000</td>\n",
              "      <td>203.000000</td>\n",
              "      <td>305.000000</td>\n",
              "      <td>304.000000</td>\n",
              "      <td>301.000000</td>\n",
              "      <td>287433.000000</td>\n",
              "      <td>245626.500000</td>\n",
              "      <td>338198.000000</td>\n",
              "      <td>258897.000000</td>\n",
              "      <td>233338.000000</td>\n",
              "    </tr>\n",
              "    <tr>\n",
              "      <th>75%</th>\n",
              "      <td>98.000000</td>\n",
              "      <td>191.000000</td>\n",
              "      <td>290.000000</td>\n",
              "      <td>94.000000</td>\n",
              "      <td>198.000000</td>\n",
              "      <td>288.000000</td>\n",
              "      <td>211.000000</td>\n",
              "      <td>212.000000</td>\n",
              "      <td>207.750000</td>\n",
              "      <td>311.750000</td>\n",
              "      <td>309.000000</td>\n",
              "      <td>308.000000</td>\n",
              "      <td>349784.250000</td>\n",
              "      <td>299856.750000</td>\n",
              "      <td>392341.000000</td>\n",
              "      <td>316568.250000</td>\n",
              "      <td>289257.000000</td>\n",
              "    </tr>\n",
              "    <tr>\n",
              "      <th>max</th>\n",
              "      <td>111.000000</td>\n",
              "      <td>221.000000</td>\n",
              "      <td>308.000000</td>\n",
              "      <td>116.000000</td>\n",
              "      <td>219.000000</td>\n",
              "      <td>302.000000</td>\n",
              "      <td>223.000000</td>\n",
              "      <td>227.000000</td>\n",
              "      <td>218.000000</td>\n",
              "      <td>325.000000</td>\n",
              "      <td>327.000000</td>\n",
              "      <td>327.000000</td>\n",
              "      <td>464097.000000</td>\n",
              "      <td>589453.000000</td>\n",
              "      <td>682039.000000</td>\n",
              "      <td>449794.000000</td>\n",
              "      <td>756373.000000</td>\n",
              "    </tr>\n",
              "  </tbody>\n",
              "</table>\n",
              "</div>\n",
              "      <button class=\"colab-df-convert\" onclick=\"convertToInteractive('df-bab5e61d-c98b-4e83-8b94-543429904896')\"\n",
              "              title=\"Convert this dataframe to an interactive table.\"\n",
              "              style=\"display:none;\">\n",
              "        \n",
              "  <svg xmlns=\"http://www.w3.org/2000/svg\" height=\"24px\"viewBox=\"0 0 24 24\"\n",
              "       width=\"24px\">\n",
              "    <path d=\"M0 0h24v24H0V0z\" fill=\"none\"/>\n",
              "    <path d=\"M18.56 5.44l.94 2.06.94-2.06 2.06-.94-2.06-.94-.94-2.06-.94 2.06-2.06.94zm-11 1L8.5 8.5l.94-2.06 2.06-.94-2.06-.94L8.5 2.5l-.94 2.06-2.06.94zm10 10l.94 2.06.94-2.06 2.06-.94-2.06-.94-.94-2.06-.94 2.06-2.06.94z\"/><path d=\"M17.41 7.96l-1.37-1.37c-.4-.4-.92-.59-1.43-.59-.52 0-1.04.2-1.43.59L10.3 9.45l-7.72 7.72c-.78.78-.78 2.05 0 2.83L4 21.41c.39.39.9.59 1.41.59.51 0 1.02-.2 1.41-.59l7.78-7.78 2.81-2.81c.8-.78.8-2.07 0-2.86zM5.41 20L4 18.59l7.72-7.72 1.47 1.35L5.41 20z\"/>\n",
              "  </svg>\n",
              "      </button>\n",
              "      \n",
              "  <style>\n",
              "    .colab-df-container {\n",
              "      display:flex;\n",
              "      flex-wrap:wrap;\n",
              "      gap: 12px;\n",
              "    }\n",
              "\n",
              "    .colab-df-convert {\n",
              "      background-color: #E8F0FE;\n",
              "      border: none;\n",
              "      border-radius: 50%;\n",
              "      cursor: pointer;\n",
              "      display: none;\n",
              "      fill: #1967D2;\n",
              "      height: 32px;\n",
              "      padding: 0 0 0 0;\n",
              "      width: 32px;\n",
              "    }\n",
              "\n",
              "    .colab-df-convert:hover {\n",
              "      background-color: #E2EBFA;\n",
              "      box-shadow: 0px 1px 2px rgba(60, 64, 67, 0.3), 0px 1px 3px 1px rgba(60, 64, 67, 0.15);\n",
              "      fill: #174EA6;\n",
              "    }\n",
              "\n",
              "    [theme=dark] .colab-df-convert {\n",
              "      background-color: #3B4455;\n",
              "      fill: #D2E3FC;\n",
              "    }\n",
              "\n",
              "    [theme=dark] .colab-df-convert:hover {\n",
              "      background-color: #434B5C;\n",
              "      box-shadow: 0px 1px 3px 1px rgba(0, 0, 0, 0.15);\n",
              "      filter: drop-shadow(0px 1px 2px rgba(0, 0, 0, 0.3));\n",
              "      fill: #FFFFFF;\n",
              "    }\n",
              "  </style>\n",
              "\n",
              "      <script>\n",
              "        const buttonEl =\n",
              "          document.querySelector('#df-bab5e61d-c98b-4e83-8b94-543429904896 button.colab-df-convert');\n",
              "        buttonEl.style.display =\n",
              "          google.colab.kernel.accessAllowed ? 'block' : 'none';\n",
              "\n",
              "        async function convertToInteractive(key) {\n",
              "          const element = document.querySelector('#df-bab5e61d-c98b-4e83-8b94-543429904896');\n",
              "          const dataTable =\n",
              "            await google.colab.kernel.invokeFunction('convertToInteractive',\n",
              "                                                     [key], {});\n",
              "          if (!dataTable) return;\n",
              "\n",
              "          const docLinkHtml = 'Like what you see? Visit the ' +\n",
              "            '<a target=\"_blank\" href=https://colab.research.google.com/notebooks/data_table.ipynb>data table notebook</a>'\n",
              "            + ' to learn more about interactive tables.';\n",
              "          element.innerHTML = '';\n",
              "          dataTable['output_type'] = 'display_data';\n",
              "          await google.colab.output.renderOutput(dataTable, element);\n",
              "          const docLink = document.createElement('div');\n",
              "          docLink.innerHTML = docLinkHtml;\n",
              "          element.appendChild(docLink);\n",
              "        }\n",
              "      </script>\n",
              "    </div>\n",
              "  </div>\n",
              "  "
            ]
          },
          "metadata": {},
          "execution_count": 31
        }
      ],
      "source": [
        "df.describe()"
      ]
    },
    {
      "cell_type": "code",
      "execution_count": null,
      "metadata": {
        "colab": {
          "base_uri": "https://localhost:8080/"
        },
        "id": "WIGkoevrzOAU",
        "outputId": "9316fa02-74a5-4b91-b767-e2c20a5e80c8"
      },
      "outputs": [
        {
          "output_type": "execute_result",
          "data": {
            "text/plain": [
              "<bound method DataFrame.info of        x1     x2     x3    x4     x5     x6     y1     y2     y3     y4  \\\n",
              "0    81.0  194.0  274.0  86.0  195.0  280.0  221.0  218.0  212.0  313.0   \n",
              "1    88.0  184.0  261.0  84.0  191.0  270.0  206.0  220.0  208.0  303.0   \n",
              "2    97.0  185.0  269.0  81.0  187.0  267.0  215.0  216.0  206.0  303.0   \n",
              "3    95.0  191.0  282.0  84.0  178.0  258.0  219.0  225.0  206.0  305.0   \n",
              "4    86.0  182.0  270.0  76.0  186.0  275.0  215.0  217.0  213.0  306.0   \n",
              "..    ...    ...    ...   ...    ...    ...    ...    ...    ...    ...   \n",
              "85   76.0  191.0  300.0  89.0  190.0  289.0  206.0  207.0  214.0  298.0   \n",
              "86   82.0  185.0  295.0  87.0  184.0  287.0  216.0  211.0  201.0  304.0   \n",
              "87  103.0  184.0  291.0  83.0  180.0  291.0  206.0  202.0  204.0  310.0   \n",
              "88   92.0  170.0  290.0  68.0  184.0  274.0  209.0  209.0  201.0  312.0   \n",
              "89   93.0  184.0  278.0  88.0  185.0  282.0  199.0  201.0  196.0  312.0   \n",
              "\n",
              "       y5     y6      t1      t2      t3      t4      t5    name  \n",
              "0   281.0  286.0  114413  167635  123439  107935  182551  jumana  \n",
              "1   304.0  312.0  182339  142204  148806   99753  164778  jumana  \n",
              "2   309.0  314.0  198410  141156  167614   98621  168973  jumana  \n",
              "3   319.0  322.0  157903  168448  125450  121992  158048  jumana  \n",
              "4   312.0  306.0  146923  166153  193621   97040  153869  jumana  \n",
              "..    ...    ...     ...     ...     ...     ...     ...     ...  \n",
              "85  306.0  291.0  376955  255922  382015  279604  229874   samir  \n",
              "86  307.0  311.0  275833  223295  351655  257901  198648   samir  \n",
              "87  302.0  312.0  265351  215950  349187  261830  248779   samir  \n",
              "88  308.0  296.0  375821  589453  350321  357407  282098   samir  \n",
              "89  308.0  305.0  292414  297639  392455  318973  322554   samir  \n",
              "\n",
              "[90 rows x 18 columns]>"
            ]
          },
          "metadata": {},
          "execution_count": 32
        }
      ],
      "source": [
        "df.info"
      ]
    },
    {
      "cell_type": "markdown",
      "source": [
        "Creating binary classification "
      ],
      "metadata": {
        "id": "qotitwEpQaNT"
      }
    },
    {
      "cell_type": "code",
      "source": [
        "df.name.unique()"
      ],
      "metadata": {
        "colab": {
          "base_uri": "https://localhost:8080/"
        },
        "id": "szSue_bxQSvr",
        "outputId": "2dc23edb-f2c4-4757-f4c7-aca4b9539edb"
      },
      "execution_count": null,
      "outputs": [
        {
          "output_type": "execute_result",
          "data": {
            "text/plain": [
              "array(['jumana', 'dana', 'Amani', 'fahed', 'Khalid ', 'faisal', 'mayasah',\n",
              "       'mka', 'samir'], dtype=object)"
            ]
          },
          "metadata": {},
          "execution_count": 33
        }
      ]
    },
    {
      "cell_type": "code",
      "source": [
        "list_to_replace=[\n",
        "    'dana', 'Amani', 'fahed', 'Khalid ', 'faisal', 'mayasah',\n",
        "       'mka', 'samir'\n",
        "]\n",
        "\n",
        "list_replaced_with=[\"other\" for i in range(len(list_to_replace))]"
      ],
      "metadata": {
        "id": "-rwVV7_BQUMr"
      },
      "execution_count": null,
      "outputs": []
    },
    {
      "cell_type": "code",
      "source": [
        "df[['name']] = df[['name']].replace(list_to_replace, list_replaced_with)"
      ],
      "metadata": {
        "id": "BqZ5Bo-4QehF"
      },
      "execution_count": null,
      "outputs": []
    },
    {
      "cell_type": "markdown",
      "metadata": {
        "id": "z57UXFcyzjXi"
      },
      "source": [
        "Splitting the attributes from the label "
      ]
    },
    {
      "cell_type": "code",
      "execution_count": null,
      "metadata": {
        "id": "PGQhot_hzjp9"
      },
      "outputs": [],
      "source": [
        "x = df.iloc[:, :-1].values\n",
        "y = df.iloc[:, -1].values"
      ]
    },
    {
      "cell_type": "markdown",
      "metadata": {
        "id": "5tKKx1ZZ21Md"
      },
      "source": [
        "Splitting data for training and testing 60/40"
      ]
    },
    {
      "cell_type": "code",
      "execution_count": null,
      "metadata": {
        "id": "eaIyJhOm0TT1"
      },
      "outputs": [],
      "source": [
        "from sklearn.model_selection import train_test_split\n",
        "\n",
        "X_train, X_test, Y_train, Y_test = train_test_split(x, y, test_size=0.40)"
      ]
    },
    {
      "cell_type": "markdown",
      "metadata": {
        "id": "1XOUgwy839GV"
      },
      "source": [
        "Normailizing values "
      ]
    },
    {
      "cell_type": "code",
      "execution_count": null,
      "metadata": {
        "id": "HlOry9tQ38ql"
      },
      "outputs": [],
      "source": [
        "from sklearn.preprocessing import StandardScaler\n",
        "\n",
        "scaler = StandardScaler()\n",
        "scaler.fit(X_train)\n",
        "X_train = scaler.transform(X_train)\n",
        "X_test = scaler.transform(X_test)"
      ]
    },
    {
      "cell_type": "code",
      "execution_count": null,
      "metadata": {
        "colab": {
          "base_uri": "https://localhost:8080/"
        },
        "id": "_j7ZC8un4uNN",
        "outputId": "904c5fc1-453b-4454-845c-b77dd3a756d0"
      },
      "outputs": [
        {
          "output_type": "execute_result",
          "data": {
            "text/plain": [
              "KNeighborsClassifier(n_neighbors=9)"
            ]
          },
          "metadata": {},
          "execution_count": 39
        }
      ],
      "source": [
        "from sklearn.neighbors import KNeighborsClassifier\n",
        "\n",
        "classifier = KNeighborsClassifier(n_neighbors=9)  # k determined by sqrt(90) where 90 is the number of samples \n",
        "classifier.fit(X_train, Y_train)"
      ]
    },
    {
      "cell_type": "code",
      "execution_count": null,
      "metadata": {
        "id": "LhyZxy5a6Bpk"
      },
      "outputs": [],
      "source": [
        "y_pred = classifier.predict(X_test)"
      ]
    },
    {
      "cell_type": "code",
      "execution_count": null,
      "metadata": {
        "colab": {
          "base_uri": "https://localhost:8080/"
        },
        "id": "Nv9NhuIu6I-U",
        "outputId": "88fd7666-4c8b-4346-ffc0-f60801ac23b4"
      },
      "outputs": [
        {
          "output_type": "stream",
          "name": "stdout",
          "text": [
            "              precision    recall  f1-score   support\n",
            "\n",
            "      jumana       1.00      0.60      0.75         5\n",
            "       other       0.94      1.00      0.97        31\n",
            "\n",
            "    accuracy                           0.94        36\n",
            "   macro avg       0.97      0.80      0.86        36\n",
            "weighted avg       0.95      0.94      0.94        36\n",
            "\n",
            "[[ 3  2]\n",
            " [ 0 31]]\n"
          ]
        }
      ],
      "source": [
        "from sklearn.metrics import classification_report, confusion_matrix\n",
        "\n",
        "print(classification_report(Y_test, y_pred))\n",
        "print(confusion_matrix(Y_test, y_pred))"
      ]
    },
    {
      "cell_type": "code",
      "execution_count": null,
      "metadata": {
        "colab": {
          "base_uri": "https://localhost:8080/"
        },
        "id": "P9_ils7M7uC1",
        "outputId": "a17c9aa3-a9f6-4ceb-d140-bf7938a57e58"
      },
      "outputs": [
        {
          "output_type": "stream",
          "name": "stdout",
          "text": [
            "0.9383680555555556\n",
            "0.9444444444444444\n"
          ]
        }
      ],
      "source": [
        "from sklearn.metrics import f1_score, accuracy_score\n",
        "\n",
        "print(f1_score(Y_test, y_pred, average=\"weighted\"))\n",
        "print(accuracy_score(Y_test, y_pred))"
      ]
    },
    {
      "cell_type": "markdown",
      "metadata": {
        "id": "K9Y6paHvWfsL"
      },
      "source": [
        "## Testing different K values"
      ]
    },
    {
      "cell_type": "code",
      "execution_count": null,
      "metadata": {
        "colab": {
          "base_uri": "https://localhost:8080/"
        },
        "id": "rHwdPNerWnMz",
        "outputId": "aaf854bc-1a31-4811-a43b-bf1169e0267e"
      },
      "outputs": [
        {
          "output_type": "stream",
          "name": "stdout",
          "text": [
            "\n",
            "K value = 1 --> f1 score = 1.0\n",
            "K value = 1 --> accuracy score = 1.0\n",
            "\n",
            "K value = 2 --> f1 score = 1.0\n",
            "K value = 2 --> accuracy score = 1.0\n",
            "\n",
            "K value = 3 --> f1 score = 1.0\n",
            "K value = 3 --> accuracy score = 1.0\n",
            "\n",
            "K value = 4 --> f1 score = 1.0\n",
            "K value = 4 --> accuracy score = 1.0\n",
            "\n",
            "K value = 5 --> f1 score = 1.0\n",
            "K value = 5 --> accuracy score = 1.0\n",
            "\n",
            "K value = 6 --> f1 score = 1.0\n",
            "K value = 6 --> accuracy score = 1.0\n",
            "\n",
            "K value = 7 --> f1 score = 1.0\n",
            "K value = 7 --> accuracy score = 1.0\n",
            "\n",
            "K value = 8 --> f1 score = 1.0\n",
            "K value = 8 --> accuracy score = 1.0\n",
            "\n",
            "K value = 9 --> f1 score = 0.9383680555555556\n",
            "K value = 9 --> accuracy score = 0.9444444444444444\n"
          ]
        }
      ],
      "source": [
        "ml_builds = []\n",
        "f1_scores = []\n",
        "accuracy_scores = []\n",
        "\n",
        "for i in range(1,10):\n",
        "\n",
        "  ml_builds.append(KNeighborsClassifier(n_neighbors=i))  # k value set \n",
        "  ml_builds[i-1].fit(X_train, Y_train)\n",
        "\n",
        "  y_pred = ml_builds[i-1].predict(X_test)\n",
        "  f1_scores.append(f1_score(Y_test, y_pred, average=\"weighted\"))\n",
        "  accuracy_scores.append(accuracy_score(Y_test, y_pred))\n",
        "\n",
        "  print(\"\\nK value = \" + str(i) +  \" --> f1 score = \" + str(f1_scores[i-1]))\n",
        "  print(\"K value = \" + str(i) + \" --> accuracy score = \" + str(accuracy_scores[i-1]))"
      ]
    },
    {
      "cell_type": "code",
      "execution_count": null,
      "metadata": {
        "colab": {
          "base_uri": "https://localhost:8080/"
        },
        "id": "bTM_tDcBqP0Q",
        "outputId": "6a16975e-5519-4b35-ae8f-d20007c1fba2"
      },
      "outputs": [
        {
          "output_type": "stream",
          "name": "stdout",
          "text": [
            "Max f1 score = 1.0 when k = 1\n",
            "Max accuracy score = 1.0 when k = 1\n"
          ]
        }
      ],
      "source": [
        "max_f1 = max(f1_scores)\n",
        "max_accur = max(accuracy_scores)\n",
        "\n",
        "print(\"Max f1 score = \" + str(max_f1) + \" when k = \" + str(f1_scores.index(max_f1)+1))\n",
        "print(\"Max accuracy score = \" + str(max_accur) + \" when k = \" + str(accuracy_scores.index(max_accur)+1))"
      ]
    },
    {
      "cell_type": "markdown",
      "metadata": {
        "id": "wZIi5cnd84at"
      },
      "source": [
        "some reference to: \n",
        "https://www.youtube.com/watch?v=OO7Y5wQWnQs&ab_channel=ProgrammingKnowledge"
      ]
    }
  ],
  "metadata": {
    "colab": {
      "collapsed_sections": [],
      "name": "Knn Own Large DataSet.ipynb",
      "provenance": []
    },
    "kernelspec": {
      "display_name": "Python 3",
      "name": "python3"
    },
    "language_info": {
      "name": "python"
    }
  },
  "nbformat": 4,
  "nbformat_minor": 0
}
{
  "cells": [
    {
      "cell_type": "code",
      "source": [
        "!pip install knnor\n",
        "from knnor import data_augment"
      ],
      "metadata": {
        "id": "dqUA3DFfqwVb",
        "outputId": "3ef5ce30-5684-48ee-c892-7d390cd37f62",
        "colab": {
          "base_uri": "https://localhost:8080/"
        }
      },
      "execution_count": null,
      "outputs": [
        {
          "output_type": "stream",
          "name": "stdout",
          "text": [
            "Collecting knnor\n",
            "  Downloading knnor-0.0.4.tar.gz (7.9 kB)\n",
            "Requirement already satisfied: numpy in /usr/local/lib/python3.7/dist-packages (from knnor) (1.21.5)\n",
            "Requirement already satisfied: scikit-learn in /usr/local/lib/python3.7/dist-packages (from knnor) (1.0.2)\n",
            "Requirement already satisfied: joblib>=0.11 in /usr/local/lib/python3.7/dist-packages (from scikit-learn->knnor) (1.1.0)\n",
            "Requirement already satisfied: threadpoolctl>=2.0.0 in /usr/local/lib/python3.7/dist-packages (from scikit-learn->knnor) (3.1.0)\n",
            "Requirement already satisfied: scipy>=1.1.0 in /usr/local/lib/python3.7/dist-packages (from scikit-learn->knnor) (1.4.1)\n",
            "Building wheels for collected packages: knnor\n",
            "  Building wheel for knnor (setup.py) ... \u001b[?25l\u001b[?25hdone\n",
            "  Created wheel for knnor: filename=knnor-0.0.4-py3-none-any.whl size=7048 sha256=1123aa2fa61710649b8106f55a09d2a8de61b08ba8bf9fd37f5d2b766b59a813\n",
            "  Stored in directory: /root/.cache/pip/wheels/fc/98/ae/e32b43c3f33dd287701122e2e5ae099577b0304dc65f754f4c\n",
            "Successfully built knnor\n",
            "Installing collected packages: knnor\n",
            "Successfully installed knnor-0.0.4\n"
          ]
        }
      ]
    },
    {
      "cell_type": "code",
      "execution_count": null,
      "metadata": {
        "id": "zgdx_B7_pQCP"
      },
      "outputs": [],
      "source": [
        "import pandas as pd\n",
        "from collections import Counter\n",
        "import numpy as np\n",
        "import matplotlib.pyplot as plt\n",
        "import io"
      ]
    },
    {
      "cell_type": "markdown",
      "metadata": {
        "id": "byF_6O7LpQCS"
      },
      "source": [
        "# Augementing data for  \"jumana\""
      ]
    },
    {
      "cell_type": "code",
      "source": [
        "from google.colab import files\n",
        "\n",
        "uploaded = files.upload()"
      ],
      "metadata": {
        "id": "b_zms_t_p42F",
        "outputId": "fb70dc61-36a1-4d25-90d6-82efcb086d3e",
        "colab": {
          "resources": {
            "http://localhost:8080/nbextensions/google.colab/files.js": {
              "data": "Ly8gQ29weXJpZ2h0IDIwMTcgR29vZ2xlIExMQwovLwovLyBMaWNlbnNlZCB1bmRlciB0aGUgQXBhY2hlIExpY2Vuc2UsIFZlcnNpb24gMi4wICh0aGUgIkxpY2Vuc2UiKTsKLy8geW91IG1heSBub3QgdXNlIHRoaXMgZmlsZSBleGNlcHQgaW4gY29tcGxpYW5jZSB3aXRoIHRoZSBMaWNlbnNlLgovLyBZb3UgbWF5IG9idGFpbiBhIGNvcHkgb2YgdGhlIExpY2Vuc2UgYXQKLy8KLy8gICAgICBodHRwOi8vd3d3LmFwYWNoZS5vcmcvbGljZW5zZXMvTElDRU5TRS0yLjAKLy8KLy8gVW5sZXNzIHJlcXVpcmVkIGJ5IGFwcGxpY2FibGUgbGF3IG9yIGFncmVlZCB0byBpbiB3cml0aW5nLCBzb2Z0d2FyZQovLyBkaXN0cmlidXRlZCB1bmRlciB0aGUgTGljZW5zZSBpcyBkaXN0cmlidXRlZCBvbiBhbiAiQVMgSVMiIEJBU0lTLAovLyBXSVRIT1VUIFdBUlJBTlRJRVMgT1IgQ09ORElUSU9OUyBPRiBBTlkgS0lORCwgZWl0aGVyIGV4cHJlc3Mgb3IgaW1wbGllZC4KLy8gU2VlIHRoZSBMaWNlbnNlIGZvciB0aGUgc3BlY2lmaWMgbGFuZ3VhZ2UgZ292ZXJuaW5nIHBlcm1pc3Npb25zIGFuZAovLyBsaW1pdGF0aW9ucyB1bmRlciB0aGUgTGljZW5zZS4KCi8qKgogKiBAZmlsZW92ZXJ2aWV3IEhlbHBlcnMgZm9yIGdvb2dsZS5jb2xhYiBQeXRob24gbW9kdWxlLgogKi8KKGZ1bmN0aW9uKHNjb3BlKSB7CmZ1bmN0aW9uIHNwYW4odGV4dCwgc3R5bGVBdHRyaWJ1dGVzID0ge30pIHsKICBjb25zdCBlbGVtZW50ID0gZG9jdW1lbnQuY3JlYXRlRWxlbWVudCgnc3BhbicpOwogIGVsZW1lbnQudGV4dENvbnRlbnQgPSB0ZXh0OwogIGZvciAoY29uc3Qga2V5IG9mIE9iamVjdC5rZXlzKHN0eWxlQXR0cmlidXRlcykpIHsKICAgIGVsZW1lbnQuc3R5bGVba2V5XSA9IHN0eWxlQXR0cmlidXRlc1trZXldOwogIH0KICByZXR1cm4gZWxlbWVudDsKfQoKLy8gTWF4IG51bWJlciBvZiBieXRlcyB3aGljaCB3aWxsIGJlIHVwbG9hZGVkIGF0IGEgdGltZS4KY29uc3QgTUFYX1BBWUxPQURfU0laRSA9IDEwMCAqIDEwMjQ7CgpmdW5jdGlvbiBfdXBsb2FkRmlsZXMoaW5wdXRJZCwgb3V0cHV0SWQpIHsKICBjb25zdCBzdGVwcyA9IHVwbG9hZEZpbGVzU3RlcChpbnB1dElkLCBvdXRwdXRJZCk7CiAgY29uc3Qgb3V0cHV0RWxlbWVudCA9IGRvY3VtZW50LmdldEVsZW1lbnRCeUlkKG91dHB1dElkKTsKICAvLyBDYWNoZSBzdGVwcyBvbiB0aGUgb3V0cHV0RWxlbWVudCB0byBtYWtlIGl0IGF2YWlsYWJsZSBmb3IgdGhlIG5leHQgY2FsbAogIC8vIHRvIHVwbG9hZEZpbGVzQ29udGludWUgZnJvbSBQeXRob24uCiAgb3V0cHV0RWxlbWVudC5zdGVwcyA9IHN0ZXBzOwoKICByZXR1cm4gX3VwbG9hZEZpbGVzQ29udGludWUob3V0cHV0SWQpOwp9CgovLyBUaGlzIGlzIHJvdWdobHkgYW4gYXN5bmMgZ2VuZXJhdG9yIChub3Qgc3VwcG9ydGVkIGluIHRoZSBicm93c2VyIHlldCksCi8vIHdoZXJlIHRoZXJlIGFyZSBtdWx0aXBsZSBhc3luY2hyb25vdXMgc3RlcHMgYW5kIHRoZSBQeXRob24gc2lkZSBpcyBnb2luZwovLyB0byBwb2xsIGZvciBjb21wbGV0aW9uIG9mIGVhY2ggc3RlcC4KLy8gVGhpcyB1c2VzIGEgUHJvbWlzZSB0byBibG9jayB0aGUgcHl0aG9uIHNpZGUgb24gY29tcGxldGlvbiBvZiBlYWNoIHN0ZXAsCi8vIHRoZW4gcGFzc2VzIHRoZSByZXN1bHQgb2YgdGhlIHByZXZpb3VzIHN0ZXAgYXMgdGhlIGlucHV0IHRvIHRoZSBuZXh0IHN0ZXAuCmZ1bmN0aW9uIF91cGxvYWRGaWxlc0NvbnRpbnVlKG91dHB1dElkKSB7CiAgY29uc3Qgb3V0cHV0RWxlbWVudCA9IGRvY3VtZW50LmdldEVsZW1lbnRCeUlkKG91dHB1dElkKTsKICBjb25zdCBzdGVwcyA9IG91dHB1dEVsZW1lbnQuc3RlcHM7CgogIGNvbnN0IG5leHQgPSBzdGVwcy5uZXh0KG91dHB1dEVsZW1lbnQubGFzdFByb21pc2VWYWx1ZSk7CiAgcmV0dXJuIFByb21pc2UucmVzb2x2ZShuZXh0LnZhbHVlLnByb21pc2UpLnRoZW4oKHZhbHVlKSA9PiB7CiAgICAvLyBDYWNoZSB0aGUgbGFzdCBwcm9taXNlIHZhbHVlIHRvIG1ha2UgaXQgYXZhaWxhYmxlIHRvIHRoZSBuZXh0CiAgICAvLyBzdGVwIG9mIHRoZSBnZW5lcmF0b3IuCiAgICBvdXRwdXRFbGVtZW50Lmxhc3RQcm9taXNlVmFsdWUgPSB2YWx1ZTsKICAgIHJldHVybiBuZXh0LnZhbHVlLnJlc3BvbnNlOwogIH0pOwp9CgovKioKICogR2VuZXJhdG9yIGZ1bmN0aW9uIHdoaWNoIGlzIGNhbGxlZCBiZXR3ZWVuIGVhY2ggYXN5bmMgc3RlcCBvZiB0aGUgdXBsb2FkCiAqIHByb2Nlc3MuCiAqIEBwYXJhbSB7c3RyaW5nfSBpbnB1dElkIEVsZW1lbnQgSUQgb2YgdGhlIGlucHV0IGZpbGUgcGlja2VyIGVsZW1lbnQuCiAqIEBwYXJhbSB7c3RyaW5nfSBvdXRwdXRJZCBFbGVtZW50IElEIG9mIHRoZSBvdXRwdXQgZGlzcGxheS4KICogQHJldHVybiB7IUl0ZXJhYmxlPCFPYmplY3Q+fSBJdGVyYWJsZSBvZiBuZXh0IHN0ZXBzLgogKi8KZnVuY3Rpb24qIHVwbG9hZEZpbGVzU3RlcChpbnB1dElkLCBvdXRwdXRJZCkgewogIGNvbnN0IGlucHV0RWxlbWVudCA9IGRvY3VtZW50LmdldEVsZW1lbnRCeUlkKGlucHV0SWQpOwogIGlucHV0RWxlbWVudC5kaXNhYmxlZCA9IGZhbHNlOwoKICBjb25zdCBvdXRwdXRFbGVtZW50ID0gZG9jdW1lbnQuZ2V0RWxlbWVudEJ5SWQob3V0cHV0SWQpOwogIG91dHB1dEVsZW1lbnQuaW5uZXJIVE1MID0gJyc7CgogIGNvbnN0IHBpY2tlZFByb21pc2UgPSBuZXcgUHJvbWlzZSgocmVzb2x2ZSkgPT4gewogICAgaW5wdXRFbGVtZW50LmFkZEV2ZW50TGlzdGVuZXIoJ2NoYW5nZScsIChlKSA9PiB7CiAgICAgIHJlc29sdmUoZS50YXJnZXQuZmlsZXMpOwogICAgfSk7CiAgfSk7CgogIGNvbnN0IGNhbmNlbCA9IGRvY3VtZW50LmNyZWF0ZUVsZW1lbnQoJ2J1dHRvbicpOwogIGlucHV0RWxlbWVudC5wYXJlbnRFbGVtZW50LmFwcGVuZENoaWxkKGNhbmNlbCk7CiAgY2FuY2VsLnRleHRDb250ZW50ID0gJ0NhbmNlbCB1cGxvYWQnOwogIGNvbnN0IGNhbmNlbFByb21pc2UgPSBuZXcgUHJvbWlzZSgocmVzb2x2ZSkgPT4gewogICAgY2FuY2VsLm9uY2xpY2sgPSAoKSA9PiB7CiAgICAgIHJlc29sdmUobnVsbCk7CiAgICB9OwogIH0pOwoKICAvLyBXYWl0IGZvciB0aGUgdXNlciB0byBwaWNrIHRoZSBmaWxlcy4KICBjb25zdCBmaWxlcyA9IHlpZWxkIHsKICAgIHByb21pc2U6IFByb21pc2UucmFjZShbcGlja2VkUHJvbWlzZSwgY2FuY2VsUHJvbWlzZV0pLAogICAgcmVzcG9uc2U6IHsKICAgICAgYWN0aW9uOiAnc3RhcnRpbmcnLAogICAgfQogIH07CgogIGNhbmNlbC5yZW1vdmUoKTsKCiAgLy8gRGlzYWJsZSB0aGUgaW5wdXQgZWxlbWVudCBzaW5jZSBmdXJ0aGVyIHBpY2tzIGFyZSBub3QgYWxsb3dlZC4KICBpbnB1dEVsZW1lbnQuZGlzYWJsZWQgPSB0cnVlOwoKICBpZiAoIWZpbGVzKSB7CiAgICByZXR1cm4gewogICAgICByZXNwb25zZTogewogICAgICAgIGFjdGlvbjogJ2NvbXBsZXRlJywKICAgICAgfQogICAgfTsKICB9CgogIGZvciAoY29uc3QgZmlsZSBvZiBmaWxlcykgewogICAgY29uc3QgbGkgPSBkb2N1bWVudC5jcmVhdGVFbGVtZW50KCdsaScpOwogICAgbGkuYXBwZW5kKHNwYW4oZmlsZS5uYW1lLCB7Zm9udFdlaWdodDogJ2JvbGQnfSkpOwogICAgbGkuYXBwZW5kKHNwYW4oCiAgICAgICAgYCgke2ZpbGUudHlwZSB8fCAnbi9hJ30pIC0gJHtmaWxlLnNpemV9IGJ5dGVzLCBgICsKICAgICAgICBgbGFzdCBtb2RpZmllZDogJHsKICAgICAgICAgICAgZmlsZS5sYXN0TW9kaWZpZWREYXRlID8gZmlsZS5sYXN0TW9kaWZpZWREYXRlLnRvTG9jYWxlRGF0ZVN0cmluZygpIDoKICAgICAgICAgICAgICAgICAgICAgICAgICAgICAgICAgICAgJ24vYSd9IC0gYCkpOwogICAgY29uc3QgcGVyY2VudCA9IHNwYW4oJzAlIGRvbmUnKTsKICAgIGxpLmFwcGVuZENoaWxkKHBlcmNlbnQpOwoKICAgIG91dHB1dEVsZW1lbnQuYXBwZW5kQ2hpbGQobGkpOwoKICAgIGNvbnN0IGZpbGVEYXRhUHJvbWlzZSA9IG5ldyBQcm9taXNlKChyZXNvbHZlKSA9PiB7CiAgICAgIGNvbnN0IHJlYWRlciA9IG5ldyBGaWxlUmVhZGVyKCk7CiAgICAgIHJlYWRlci5vbmxvYWQgPSAoZSkgPT4gewogICAgICAgIHJlc29sdmUoZS50YXJnZXQucmVzdWx0KTsKICAgICAgfTsKICAgICAgcmVhZGVyLnJlYWRBc0FycmF5QnVmZmVyKGZpbGUpOwogICAgfSk7CiAgICAvLyBXYWl0IGZvciB0aGUgZGF0YSB0byBiZSByZWFkeS4KICAgIGxldCBmaWxlRGF0YSA9IHlpZWxkIHsKICAgICAgcHJvbWlzZTogZmlsZURhdGFQcm9taXNlLAogICAgICByZXNwb25zZTogewogICAgICAgIGFjdGlvbjogJ2NvbnRpbnVlJywKICAgICAgfQogICAgfTsKCiAgICAvLyBVc2UgYSBjaHVua2VkIHNlbmRpbmcgdG8gYXZvaWQgbWVzc2FnZSBzaXplIGxpbWl0cy4gU2VlIGIvNjIxMTU2NjAuCiAgICBsZXQgcG9zaXRpb24gPSAwOwogICAgZG8gewogICAgICBjb25zdCBsZW5ndGggPSBNYXRoLm1pbihmaWxlRGF0YS5ieXRlTGVuZ3RoIC0gcG9zaXRpb24sIE1BWF9QQVlMT0FEX1NJWkUpOwogICAgICBjb25zdCBjaHVuayA9IG5ldyBVaW50OEFycmF5KGZpbGVEYXRhLCBwb3NpdGlvbiwgbGVuZ3RoKTsKICAgICAgcG9zaXRpb24gKz0gbGVuZ3RoOwoKICAgICAgY29uc3QgYmFzZTY0ID0gYnRvYShTdHJpbmcuZnJvbUNoYXJDb2RlLmFwcGx5KG51bGwsIGNodW5rKSk7CiAgICAgIHlpZWxkIHsKICAgICAgICByZXNwb25zZTogewogICAgICAgICAgYWN0aW9uOiAnYXBwZW5kJywKICAgICAgICAgIGZpbGU6IGZpbGUubmFtZSwKICAgICAgICAgIGRhdGE6IGJhc2U2NCwKICAgICAgICB9LAogICAgICB9OwoKICAgICAgbGV0IHBlcmNlbnREb25lID0gZmlsZURhdGEuYnl0ZUxlbmd0aCA9PT0gMCA/CiAgICAgICAgICAxMDAgOgogICAgICAgICAgTWF0aC5yb3VuZCgocG9zaXRpb24gLyBmaWxlRGF0YS5ieXRlTGVuZ3RoKSAqIDEwMCk7CiAgICAgIHBlcmNlbnQudGV4dENvbnRlbnQgPSBgJHtwZXJjZW50RG9uZX0lIGRvbmVgOwoKICAgIH0gd2hpbGUgKHBvc2l0aW9uIDwgZmlsZURhdGEuYnl0ZUxlbmd0aCk7CiAgfQoKICAvLyBBbGwgZG9uZS4KICB5aWVsZCB7CiAgICByZXNwb25zZTogewogICAgICBhY3Rpb246ICdjb21wbGV0ZScsCiAgICB9CiAgfTsKfQoKc2NvcGUuZ29vZ2xlID0gc2NvcGUuZ29vZ2xlIHx8IHt9OwpzY29wZS5nb29nbGUuY29sYWIgPSBzY29wZS5nb29nbGUuY29sYWIgfHwge307CnNjb3BlLmdvb2dsZS5jb2xhYi5fZmlsZXMgPSB7CiAgX3VwbG9hZEZpbGVzLAogIF91cGxvYWRGaWxlc0NvbnRpbnVlLAp9Owp9KShzZWxmKTsK",
              "ok": true,
              "headers": [
                [
                  "content-type",
                  "application/javascript"
                ]
              ],
              "status": 200,
              "status_text": ""
            }
          },
          "base_uri": "https://localhost:8080/",
          "height": 73
        }
      },
      "execution_count": null,
      "outputs": [
        {
          "output_type": "display_data",
          "data": {
            "text/plain": [
              "<IPython.core.display.HTML object>"
            ],
            "text/html": [
              "\n",
              "     <input type=\"file\" id=\"files-800b2808-ade4-43e7-8e74-6ff5b4ed3cba\" name=\"files[]\" multiple disabled\n",
              "        style=\"border:none\" />\n",
              "     <output id=\"result-800b2808-ade4-43e7-8e74-6ff5b4ed3cba\">\n",
              "      Upload widget is only available when the cell has been executed in the\n",
              "      current browser session. Please rerun this cell to enable.\n",
              "      </output>\n",
              "      <script src=\"/nbextensions/google.colab/files.js\"></script> "
            ]
          },
          "metadata": {}
        },
        {
          "output_type": "stream",
          "name": "stdout",
          "text": [
            "Saving dataFile.csv to dataFile.csv\n"
          ]
        }
      ]
    },
    {
      "cell_type": "code",
      "execution_count": null,
      "metadata": {
        "id": "U9gwuuvhpQCU"
      },
      "outputs": [],
      "source": [
        "df=pd.read_csv(\"dataFile.csv\")\n",
        "df = df.dropna()"
      ]
    },
    {
      "cell_type": "code",
      "execution_count": null,
      "metadata": {
        "id": "xdDquTlapQCV",
        "outputId": "f7d3bc02-4dc4-434c-a9e5-f4955f502af9",
        "colab": {
          "base_uri": "https://localhost:8080/",
          "height": 364
        }
      },
      "outputs": [
        {
          "output_type": "execute_result",
          "data": {
            "text/plain": [
              "               x1          x2          x3          x4          x5          x6  \\\n",
              "count  120.000000  120.000000  120.000000  120.000000  120.000000  120.000000   \n",
              "mean    91.866667  186.350000  283.841667   89.425000  192.325000  282.066667   \n",
              "std      9.663179   10.148188   12.075391   11.882946   10.595831   12.481067   \n",
              "min     68.000000  163.000000  259.000000   62.000000  167.000000  248.000000   \n",
              "25%     85.000000  180.000000  277.750000   81.750000  186.000000  273.750000   \n",
              "50%     92.500000  186.000000  282.500000   88.000000  192.500000  283.000000   \n",
              "75%     99.000000  193.000000  292.250000   98.000000  200.000000  290.000000   \n",
              "max    111.000000  221.000000  312.000000  123.000000  219.000000  313.000000   \n",
              "\n",
              "               y1          y2          y3         y4          y5          y6  \\\n",
              "count  120.000000  120.000000  120.000000  120.00000  120.000000  120.000000   \n",
              "mean   204.816667  207.558333  202.841667  304.00000  304.425000  300.466667   \n",
              "std      9.291709    8.070900    7.487801    8.49419    7.988082   10.665213   \n",
              "min    179.000000  188.000000  183.000000  281.00000  281.000000  276.000000   \n",
              "25%    198.000000  201.000000  198.000000  300.00000  300.000000  293.750000   \n",
              "50%    204.000000  207.000000  203.000000  303.50000  304.500000  301.000000   \n",
              "75%    212.000000  214.000000  208.250000  310.25000  310.000000  308.000000   \n",
              "max    223.000000  227.000000  218.000000  325.00000  327.000000  327.000000   \n",
              "\n",
              "                 t1             t2            t3             t4             t5  \n",
              "count  1.200000e+02     120.000000  1.200000e+02     120.000000     120.000000  \n",
              "mean   2.726491e+05  250483.508333  3.201428e+05  240366.066667  241579.416667  \n",
              "std    1.211852e+05   74473.204689  1.280841e+05   83511.634442   79297.587296  \n",
              "min    9.216900e+04  141156.000000  1.147450e+05   67135.000000  146231.000000  \n",
              "25%    2.085598e+05  207164.000000  2.547195e+05  201063.250000  197454.500000  \n",
              "50%    2.587070e+05  228727.000000  3.255650e+05  232441.500000  224896.000000  \n",
              "75%    3.330320e+05  290721.250000  3.818522e+05  293907.750000  274067.250000  \n",
              "max    1.213355e+06  589453.000000  1.138620e+06  449794.000000  756373.000000  "
            ],
            "text/html": [
              "\n",
              "  <div id=\"df-eb870871-f401-4805-b09a-270d2988152b\">\n",
              "    <div class=\"colab-df-container\">\n",
              "      <div>\n",
              "<style scoped>\n",
              "    .dataframe tbody tr th:only-of-type {\n",
              "        vertical-align: middle;\n",
              "    }\n",
              "\n",
              "    .dataframe tbody tr th {\n",
              "        vertical-align: top;\n",
              "    }\n",
              "\n",
              "    .dataframe thead th {\n",
              "        text-align: right;\n",
              "    }\n",
              "</style>\n",
              "<table border=\"1\" class=\"dataframe\">\n",
              "  <thead>\n",
              "    <tr style=\"text-align: right;\">\n",
              "      <th></th>\n",
              "      <th>x1</th>\n",
              "      <th>x2</th>\n",
              "      <th>x3</th>\n",
              "      <th>x4</th>\n",
              "      <th>x5</th>\n",
              "      <th>x6</th>\n",
              "      <th>y1</th>\n",
              "      <th>y2</th>\n",
              "      <th>y3</th>\n",
              "      <th>y4</th>\n",
              "      <th>y5</th>\n",
              "      <th>y6</th>\n",
              "      <th>t1</th>\n",
              "      <th>t2</th>\n",
              "      <th>t3</th>\n",
              "      <th>t4</th>\n",
              "      <th>t5</th>\n",
              "    </tr>\n",
              "  </thead>\n",
              "  <tbody>\n",
              "    <tr>\n",
              "      <th>count</th>\n",
              "      <td>120.000000</td>\n",
              "      <td>120.000000</td>\n",
              "      <td>120.000000</td>\n",
              "      <td>120.000000</td>\n",
              "      <td>120.000000</td>\n",
              "      <td>120.000000</td>\n",
              "      <td>120.000000</td>\n",
              "      <td>120.000000</td>\n",
              "      <td>120.000000</td>\n",
              "      <td>120.00000</td>\n",
              "      <td>120.000000</td>\n",
              "      <td>120.000000</td>\n",
              "      <td>1.200000e+02</td>\n",
              "      <td>120.000000</td>\n",
              "      <td>1.200000e+02</td>\n",
              "      <td>120.000000</td>\n",
              "      <td>120.000000</td>\n",
              "    </tr>\n",
              "    <tr>\n",
              "      <th>mean</th>\n",
              "      <td>91.866667</td>\n",
              "      <td>186.350000</td>\n",
              "      <td>283.841667</td>\n",
              "      <td>89.425000</td>\n",
              "      <td>192.325000</td>\n",
              "      <td>282.066667</td>\n",
              "      <td>204.816667</td>\n",
              "      <td>207.558333</td>\n",
              "      <td>202.841667</td>\n",
              "      <td>304.00000</td>\n",
              "      <td>304.425000</td>\n",
              "      <td>300.466667</td>\n",
              "      <td>2.726491e+05</td>\n",
              "      <td>250483.508333</td>\n",
              "      <td>3.201428e+05</td>\n",
              "      <td>240366.066667</td>\n",
              "      <td>241579.416667</td>\n",
              "    </tr>\n",
              "    <tr>\n",
              "      <th>std</th>\n",
              "      <td>9.663179</td>\n",
              "      <td>10.148188</td>\n",
              "      <td>12.075391</td>\n",
              "      <td>11.882946</td>\n",
              "      <td>10.595831</td>\n",
              "      <td>12.481067</td>\n",
              "      <td>9.291709</td>\n",
              "      <td>8.070900</td>\n",
              "      <td>7.487801</td>\n",
              "      <td>8.49419</td>\n",
              "      <td>7.988082</td>\n",
              "      <td>10.665213</td>\n",
              "      <td>1.211852e+05</td>\n",
              "      <td>74473.204689</td>\n",
              "      <td>1.280841e+05</td>\n",
              "      <td>83511.634442</td>\n",
              "      <td>79297.587296</td>\n",
              "    </tr>\n",
              "    <tr>\n",
              "      <th>min</th>\n",
              "      <td>68.000000</td>\n",
              "      <td>163.000000</td>\n",
              "      <td>259.000000</td>\n",
              "      <td>62.000000</td>\n",
              "      <td>167.000000</td>\n",
              "      <td>248.000000</td>\n",
              "      <td>179.000000</td>\n",
              "      <td>188.000000</td>\n",
              "      <td>183.000000</td>\n",
              "      <td>281.00000</td>\n",
              "      <td>281.000000</td>\n",
              "      <td>276.000000</td>\n",
              "      <td>9.216900e+04</td>\n",
              "      <td>141156.000000</td>\n",
              "      <td>1.147450e+05</td>\n",
              "      <td>67135.000000</td>\n",
              "      <td>146231.000000</td>\n",
              "    </tr>\n",
              "    <tr>\n",
              "      <th>25%</th>\n",
              "      <td>85.000000</td>\n",
              "      <td>180.000000</td>\n",
              "      <td>277.750000</td>\n",
              "      <td>81.750000</td>\n",
              "      <td>186.000000</td>\n",
              "      <td>273.750000</td>\n",
              "      <td>198.000000</td>\n",
              "      <td>201.000000</td>\n",
              "      <td>198.000000</td>\n",
              "      <td>300.00000</td>\n",
              "      <td>300.000000</td>\n",
              "      <td>293.750000</td>\n",
              "      <td>2.085598e+05</td>\n",
              "      <td>207164.000000</td>\n",
              "      <td>2.547195e+05</td>\n",
              "      <td>201063.250000</td>\n",
              "      <td>197454.500000</td>\n",
              "    </tr>\n",
              "    <tr>\n",
              "      <th>50%</th>\n",
              "      <td>92.500000</td>\n",
              "      <td>186.000000</td>\n",
              "      <td>282.500000</td>\n",
              "      <td>88.000000</td>\n",
              "      <td>192.500000</td>\n",
              "      <td>283.000000</td>\n",
              "      <td>204.000000</td>\n",
              "      <td>207.000000</td>\n",
              "      <td>203.000000</td>\n",
              "      <td>303.50000</td>\n",
              "      <td>304.500000</td>\n",
              "      <td>301.000000</td>\n",
              "      <td>2.587070e+05</td>\n",
              "      <td>228727.000000</td>\n",
              "      <td>3.255650e+05</td>\n",
              "      <td>232441.500000</td>\n",
              "      <td>224896.000000</td>\n",
              "    </tr>\n",
              "    <tr>\n",
              "      <th>75%</th>\n",
              "      <td>99.000000</td>\n",
              "      <td>193.000000</td>\n",
              "      <td>292.250000</td>\n",
              "      <td>98.000000</td>\n",
              "      <td>200.000000</td>\n",
              "      <td>290.000000</td>\n",
              "      <td>212.000000</td>\n",
              "      <td>214.000000</td>\n",
              "      <td>208.250000</td>\n",
              "      <td>310.25000</td>\n",
              "      <td>310.000000</td>\n",
              "      <td>308.000000</td>\n",
              "      <td>3.330320e+05</td>\n",
              "      <td>290721.250000</td>\n",
              "      <td>3.818522e+05</td>\n",
              "      <td>293907.750000</td>\n",
              "      <td>274067.250000</td>\n",
              "    </tr>\n",
              "    <tr>\n",
              "      <th>max</th>\n",
              "      <td>111.000000</td>\n",
              "      <td>221.000000</td>\n",
              "      <td>312.000000</td>\n",
              "      <td>123.000000</td>\n",
              "      <td>219.000000</td>\n",
              "      <td>313.000000</td>\n",
              "      <td>223.000000</td>\n",
              "      <td>227.000000</td>\n",
              "      <td>218.000000</td>\n",
              "      <td>325.00000</td>\n",
              "      <td>327.000000</td>\n",
              "      <td>327.000000</td>\n",
              "      <td>1.213355e+06</td>\n",
              "      <td>589453.000000</td>\n",
              "      <td>1.138620e+06</td>\n",
              "      <td>449794.000000</td>\n",
              "      <td>756373.000000</td>\n",
              "    </tr>\n",
              "  </tbody>\n",
              "</table>\n",
              "</div>\n",
              "      <button class=\"colab-df-convert\" onclick=\"convertToInteractive('df-eb870871-f401-4805-b09a-270d2988152b')\"\n",
              "              title=\"Convert this dataframe to an interactive table.\"\n",
              "              style=\"display:none;\">\n",
              "        \n",
              "  <svg xmlns=\"http://www.w3.org/2000/svg\" height=\"24px\"viewBox=\"0 0 24 24\"\n",
              "       width=\"24px\">\n",
              "    <path d=\"M0 0h24v24H0V0z\" fill=\"none\"/>\n",
              "    <path d=\"M18.56 5.44l.94 2.06.94-2.06 2.06-.94-2.06-.94-.94-2.06-.94 2.06-2.06.94zm-11 1L8.5 8.5l.94-2.06 2.06-.94-2.06-.94L8.5 2.5l-.94 2.06-2.06.94zm10 10l.94 2.06.94-2.06 2.06-.94-2.06-.94-.94-2.06-.94 2.06-2.06.94z\"/><path d=\"M17.41 7.96l-1.37-1.37c-.4-.4-.92-.59-1.43-.59-.52 0-1.04.2-1.43.59L10.3 9.45l-7.72 7.72c-.78.78-.78 2.05 0 2.83L4 21.41c.39.39.9.59 1.41.59.51 0 1.02-.2 1.41-.59l7.78-7.78 2.81-2.81c.8-.78.8-2.07 0-2.86zM5.41 20L4 18.59l7.72-7.72 1.47 1.35L5.41 20z\"/>\n",
              "  </svg>\n",
              "      </button>\n",
              "      \n",
              "  <style>\n",
              "    .colab-df-container {\n",
              "      display:flex;\n",
              "      flex-wrap:wrap;\n",
              "      gap: 12px;\n",
              "    }\n",
              "\n",
              "    .colab-df-convert {\n",
              "      background-color: #E8F0FE;\n",
              "      border: none;\n",
              "      border-radius: 50%;\n",
              "      cursor: pointer;\n",
              "      display: none;\n",
              "      fill: #1967D2;\n",
              "      height: 32px;\n",
              "      padding: 0 0 0 0;\n",
              "      width: 32px;\n",
              "    }\n",
              "\n",
              "    .colab-df-convert:hover {\n",
              "      background-color: #E2EBFA;\n",
              "      box-shadow: 0px 1px 2px rgba(60, 64, 67, 0.3), 0px 1px 3px 1px rgba(60, 64, 67, 0.15);\n",
              "      fill: #174EA6;\n",
              "    }\n",
              "\n",
              "    [theme=dark] .colab-df-convert {\n",
              "      background-color: #3B4455;\n",
              "      fill: #D2E3FC;\n",
              "    }\n",
              "\n",
              "    [theme=dark] .colab-df-convert:hover {\n",
              "      background-color: #434B5C;\n",
              "      box-shadow: 0px 1px 3px 1px rgba(0, 0, 0, 0.15);\n",
              "      filter: drop-shadow(0px 1px 2px rgba(0, 0, 0, 0.3));\n",
              "      fill: #FFFFFF;\n",
              "    }\n",
              "  </style>\n",
              "\n",
              "      <script>\n",
              "        const buttonEl =\n",
              "          document.querySelector('#df-eb870871-f401-4805-b09a-270d2988152b button.colab-df-convert');\n",
              "        buttonEl.style.display =\n",
              "          google.colab.kernel.accessAllowed ? 'block' : 'none';\n",
              "\n",
              "        async function convertToInteractive(key) {\n",
              "          const element = document.querySelector('#df-eb870871-f401-4805-b09a-270d2988152b');\n",
              "          const dataTable =\n",
              "            await google.colab.kernel.invokeFunction('convertToInteractive',\n",
              "                                                     [key], {});\n",
              "          if (!dataTable) return;\n",
              "\n",
              "          const docLinkHtml = 'Like what you see? Visit the ' +\n",
              "            '<a target=\"_blank\" href=https://colab.research.google.com/notebooks/data_table.ipynb>data table notebook</a>'\n",
              "            + ' to learn more about interactive tables.';\n",
              "          element.innerHTML = '';\n",
              "          dataTable['output_type'] = 'display_data';\n",
              "          await google.colab.output.renderOutput(dataTable, element);\n",
              "          const docLink = document.createElement('div');\n",
              "          docLink.innerHTML = docLinkHtml;\n",
              "          element.appendChild(docLink);\n",
              "        }\n",
              "      </script>\n",
              "    </div>\n",
              "  </div>\n",
              "  "
            ]
          },
          "metadata": {},
          "execution_count": 5
        }
      ],
      "source": [
        "df.describe()"
      ]
    },
    {
      "cell_type": "code",
      "source": [
        "df.info"
      ],
      "metadata": {
        "id": "r9It-mrKqgYq",
        "outputId": "0f15ed20-996f-47ec-a6c9-a047e8742cd7",
        "colab": {
          "base_uri": "https://localhost:8080/"
        }
      },
      "execution_count": null,
      "outputs": [
        {
          "output_type": "execute_result",
          "data": {
            "text/plain": [
              "<bound method DataFrame.info of        x1     x2     x3    x4     x5     x6     y1     y2     y3     y4  \\\n",
              "0    81.0  194.0  274.0  86.0  195.0  280.0  221.0  218.0  212.0  313.0   \n",
              "1    88.0  184.0  261.0  84.0  191.0  270.0  206.0  220.0  208.0  303.0   \n",
              "2    97.0  185.0  269.0  81.0  187.0  267.0  215.0  216.0  206.0  303.0   \n",
              "3    95.0  191.0  282.0  84.0  178.0  258.0  219.0  225.0  206.0  305.0   \n",
              "4    86.0  182.0  270.0  76.0  186.0  275.0  215.0  217.0  213.0  306.0   \n",
              "..    ...    ...    ...   ...    ...    ...    ...    ...    ...    ...   \n",
              "115  91.0  186.0  288.0  81.0  190.0  260.0  209.0  204.0  197.0  293.0   \n",
              "116  84.0  168.0  263.0  82.0  175.0  279.0  202.0  205.0  194.0  293.0   \n",
              "117  80.0  184.0  298.0  82.0  193.0  278.0  205.0  211.0  203.0  302.0   \n",
              "118  87.0  179.0  280.0  84.0  203.0  291.0  197.0  219.0  205.0  294.0   \n",
              "119  90.0  181.0  279.0  82.0  186.0  276.0  202.0  215.0  201.0  295.0   \n",
              "\n",
              "        y5     y6      t1      t2      t3      t4      t5    name  \n",
              "0    281.0  286.0  114413  167635  123439  107935  182551  jumana  \n",
              "1    304.0  312.0  182339  142204  148806   99753  164778  jumana  \n",
              "2    309.0  314.0  198410  141156  167614   98621  168973  jumana  \n",
              "3    319.0  322.0  157903  168448  125450  121992  158048  jumana  \n",
              "4    312.0  306.0  146923  166153  193621   97040  153869  jumana  \n",
              "..     ...    ...     ...     ...     ...     ...     ...     ...  \n",
              "115  313.0  310.0  116164  148333  133178   98626  157885    hbku  \n",
              "116  312.0  304.0  124723  157939  158739   99436  170751    hbku  \n",
              "117  306.0  297.0  107185  151299  148248   67135  159494    hbku  \n",
              "118  307.0  276.0  113618  159929  149130  100608  173446    hbku  \n",
              "119  295.0  296.0  155396  157514  159594   83008  176256    hbku  \n",
              "\n",
              "[120 rows x 18 columns]>"
            ]
          },
          "metadata": {},
          "execution_count": 6
        }
      ]
    },
    {
      "cell_type": "code",
      "execution_count": null,
      "metadata": {
        "id": "Whj2R0k6pQCW",
        "outputId": "3f4d10af-030d-424c-8c8d-aa29353c9185",
        "colab": {
          "base_uri": "https://localhost:8080/"
        }
      },
      "outputs": [
        {
          "output_type": "execute_result",
          "data": {
            "text/plain": [
              "(120, 18)"
            ]
          },
          "metadata": {},
          "execution_count": 7
        }
      ],
      "source": [
        "df.shape"
      ]
    },
    {
      "cell_type": "code",
      "execution_count": null,
      "metadata": {
        "id": "jJjXlrJ2pQCW",
        "outputId": "aceb3c3c-a16d-4956-cde2-84bc24934d07",
        "colab": {
          "base_uri": "https://localhost:8080/"
        }
      },
      "outputs": [
        {
          "output_type": "execute_result",
          "data": {
            "text/plain": [
              "array(['jumana', 'dana', 'Amani', 'fahed', 'Khalid ', 'faisal', 'mayasah',\n",
              "       'mka', 'samir', 'bbs', 'eman', 'hbku'], dtype=object)"
            ]
          },
          "metadata": {},
          "execution_count": 8
        }
      ],
      "source": [
        "df.name.unique()"
      ]
    },
    {
      "cell_type": "markdown",
      "source": [
        "creating binary classification"
      ],
      "metadata": {
        "id": "fDN5WUhviTBU"
      }
    },
    {
      "cell_type": "code",
      "source": [
        "list_to_replace=list(df.name.unique())\n",
        "list_to_replace.remove(\"jumana\")\n",
        "print(\"to be replace: \",list_to_replace)\n",
        "\n",
        "list_replaced_with=[\"other\" for i in range(len(list_to_replace))]"
      ],
      "metadata": {
        "id": "RYbU4eOqhWa7",
        "outputId": "31a3c1b5-b73c-4c70-c1d2-cbed4e7f9dfe",
        "colab": {
          "base_uri": "https://localhost:8080/"
        }
      },
      "execution_count": null,
      "outputs": [
        {
          "output_type": "stream",
          "name": "stdout",
          "text": [
            "to be replace:  ['dana', 'Amani', 'fahed', 'Khalid ', 'faisal', 'mayasah', 'mka', 'samir', 'bbs', 'eman', 'hbku']\n"
          ]
        }
      ]
    },
    {
      "cell_type": "code",
      "execution_count": null,
      "metadata": {
        "id": "opJCE4R1pQCZ",
        "outputId": "4c93dd28-0f81-4273-b9fe-948e199a3b50",
        "colab": {
          "base_uri": "https://localhost:8080/"
        }
      },
      "outputs": [
        {
          "output_type": "stream",
          "name": "stdout",
          "text": [
            "       name\n",
            "0    jumana\n",
            "1    jumana\n",
            "2    jumana\n",
            "3    jumana\n",
            "4    jumana\n",
            "..      ...\n",
            "115   other\n",
            "116   other\n",
            "117   other\n",
            "118   other\n",
            "119   other\n",
            "\n",
            "[120 rows x 1 columns]\n"
          ]
        }
      ],
      "source": [
        "df[['name']] = df[['name']].replace(list_to_replace, list_replaced_with)\n",
        "print(df[['name']])"
      ]
    },
    {
      "cell_type": "code",
      "execution_count": null,
      "metadata": {
        "id": "WHTZ3QTWpQCb"
      },
      "outputs": [],
      "source": [
        "x=df.iloc[:,:-1].values\n",
        "y=df.iloc[:,-1].values"
      ]
    },
    {
      "cell_type": "code",
      "execution_count": null,
      "metadata": {
        "id": "xVh3dYCspQCb",
        "outputId": "ab54cbb5-a7fa-4b4f-ef1b-2e43dfb26f4b",
        "colab": {
          "base_uri": "https://localhost:8080/"
        }
      },
      "outputs": [
        {
          "output_type": "execute_result",
          "data": {
            "text/plain": [
              "(120, 17)"
            ]
          },
          "metadata": {},
          "execution_count": 12
        }
      ],
      "source": [
        "x.shape"
      ]
    },
    {
      "cell_type": "code",
      "execution_count": null,
      "metadata": {
        "id": "8hfXjFcmpQCb",
        "outputId": "c7502ece-22f5-4d86-faaa-7d5ccfac52ea",
        "colab": {
          "base_uri": "https://localhost:8080/"
        }
      },
      "outputs": [
        {
          "output_type": "stream",
          "name": "stdout",
          "text": [
            "Initial distribution:\n",
            "jumana: 10\n",
            "other: 110\n"
          ]
        }
      ],
      "source": [
        "elements_count = Counter(y)\n",
        "# printing the element and the frequency\n",
        "print(\"Initial distribution:\")\n",
        "for key, value in elements_count.items():\n",
        "    print(f\"{key}: {value}\")\n"
      ]
    },
    {
      "cell_type": "markdown",
      "source": [
        "Splitting Data for training and testing 60/40"
      ],
      "metadata": {
        "id": "Jv-r461srNgq"
      }
    },
    {
      "cell_type": "code",
      "source": [
        "#splitting data for training and testing 60/40\n",
        "from sklearn.model_selection import train_test_split\n",
        "\n",
        "X_train, X_test, Y_train, Y_test = train_test_split(x, y, test_size=0.40)"
      ],
      "metadata": {
        "id": "jg7lI1xlrLMC"
      },
      "execution_count": null,
      "outputs": []
    },
    {
      "cell_type": "markdown",
      "source": [
        "Normalizing Data"
      ],
      "metadata": {
        "id": "vRBhGAm1ri-b"
      }
    },
    {
      "cell_type": "code",
      "source": [
        "# Normalizing Data\n",
        "from sklearn.preprocessing import StandardScaler\n",
        "\n",
        "scaler = StandardScaler()\n",
        "scaler.fit(X_train)\n",
        "X_train = scaler.transform(X_train)\n",
        "X_test = scaler.transform(X_test)"
      ],
      "metadata": {
        "id": "7DPibrHTref8"
      },
      "execution_count": null,
      "outputs": []
    },
    {
      "cell_type": "markdown",
      "source": [
        "Augment Data"
      ],
      "metadata": {
        "id": "lqiYXjq_rvY5"
      }
    },
    {
      "cell_type": "code",
      "execution_count": null,
      "metadata": {
        "id": "pTvsGXGipQCc",
        "outputId": "0c0a6f4f-b36d-48a8-d6b7-209d771d5ee0",
        "colab": {
          "base_uri": "https://localhost:8080/"
        }
      },
      "outputs": [
        {
          "output_type": "stream",
          "name": "stdout",
          "text": [
            "65 7 (72,)\n",
            "65 7 (72,)\n"
          ]
        },
        {
          "output_type": "execute_result",
          "data": {
            "text/plain": [
              "(130, 17)"
            ]
          },
          "metadata": {},
          "execution_count": 16
        }
      ],
      "source": [
        "#Augment Data \n",
        "knnor = data_augment.KNNOR()\n",
        "\n",
        "X_new,Y_new,_,_=knnor.fit_resample(X_train,Y_train)\n",
        "X_new.shape"
      ]
    },
    {
      "cell_type": "code",
      "execution_count": null,
      "metadata": {
        "id": "BLIrhGRYpQCc",
        "outputId": "5316b51b-a890-43b6-9e3f-ea79577b5375",
        "colab": {
          "base_uri": "https://localhost:8080/"
        }
      },
      "outputs": [
        {
          "output_type": "stream",
          "name": "stdout",
          "text": [
            "Final distribution:\n",
            "other: 65\n",
            "jumana: 65\n"
          ]
        }
      ],
      "source": [
        "elements_count = Counter(Y_new)\n",
        "# printing the element and the frequency\n",
        "print(\"Final distribution:\")\n",
        "for key, value in elements_count.items():\n",
        "    print(f\"{key}: {value}\")\n"
      ]
    },
    {
      "cell_type": "markdown",
      "metadata": {
        "id": "8lZctnvQpQCh"
      },
      "source": [
        "### kNN algorthim "
      ]
    },
    {
      "cell_type": "code",
      "source": [
        "# kNN algorithm \n",
        "from sklearn.neighbors import KNeighborsClassifier\n",
        "\n",
        "classifier = KNeighborsClassifier(n_neighbors=3)  # k determined by sqrt(160) where 160 is the number of samples \n",
        "classifier.fit(X_new, Y_new)"
      ],
      "metadata": {
        "id": "puC-CyB0sM_D",
        "outputId": "588d67fe-a6f4-49db-e06a-6020605564ab",
        "colab": {
          "base_uri": "https://localhost:8080/"
        }
      },
      "execution_count": null,
      "outputs": [
        {
          "output_type": "execute_result",
          "data": {
            "text/plain": [
              "KNeighborsClassifier(n_neighbors=3)"
            ]
          },
          "metadata": {},
          "execution_count": 18
        }
      ]
    },
    {
      "cell_type": "code",
      "source": [
        "y_pred = classifier.predict(X_test)"
      ],
      "metadata": {
        "id": "10O3FNcBsit7"
      },
      "execution_count": null,
      "outputs": []
    },
    {
      "cell_type": "code",
      "source": [
        "from sklearn.metrics import classification_report, confusion_matrix\n",
        "\n",
        "print(classification_report(Y_test, y_pred))\n",
        "print(confusion_matrix(Y_test, y_pred))"
      ],
      "metadata": {
        "id": "EZeqromFsmdy",
        "outputId": "f6dc43fc-2a02-43b1-884f-0c0eab762037",
        "colab": {
          "base_uri": "https://localhost:8080/"
        }
      },
      "execution_count": null,
      "outputs": [
        {
          "output_type": "stream",
          "name": "stdout",
          "text": [
            "              precision    recall  f1-score   support\n",
            "\n",
            "      jumana       1.00      1.00      1.00         3\n",
            "       other       1.00      1.00      1.00        45\n",
            "\n",
            "    accuracy                           1.00        48\n",
            "   macro avg       1.00      1.00      1.00        48\n",
            "weighted avg       1.00      1.00      1.00        48\n",
            "\n",
            "[[ 3  0]\n",
            " [ 0 45]]\n"
          ]
        }
      ]
    },
    {
      "cell_type": "code",
      "source": [
        "tn, fp, fn, tp = confusion_matrix(Y_test, y_pred).ravel()\n",
        "(tn, fp, fn, tp)"
      ],
      "metadata": {
        "id": "d4CeBwBeywUG",
        "outputId": "a5596e42-cb61-4a77-b79d-bea83526b1ea",
        "colab": {
          "base_uri": "https://localhost:8080/"
        }
      },
      "execution_count": null,
      "outputs": [
        {
          "output_type": "execute_result",
          "data": {
            "text/plain": [
              "(3, 0, 0, 45)"
            ]
          },
          "metadata": {},
          "execution_count": 21
        }
      ]
    },
    {
      "cell_type": "code",
      "source": [
        "from sklearn.metrics import f1_score, accuracy_score\n",
        "\n",
        "print(f1_score(Y_test, y_pred, average=\"weighted\"))\n",
        "print(accuracy_score(Y_test, y_pred))"
      ],
      "metadata": {
        "id": "R5YL7cUxsr0K",
        "outputId": "9c939ed0-40a8-4c2a-803b-43b472560215",
        "colab": {
          "base_uri": "https://localhost:8080/"
        }
      },
      "execution_count": null,
      "outputs": [
        {
          "output_type": "stream",
          "name": "stdout",
          "text": [
            "1.0\n",
            "1.0\n"
          ]
        }
      ]
    },
    {
      "cell_type": "code",
      "source": [
        "ml_builds = []\n",
        "f1_scores = []\n",
        "accuracy_scores = []\n",
        "\n",
        "for i in range(1,14):\n",
        "\n",
        "  ml_builds.append(KNeighborsClassifier(n_neighbors=i))  # k value set \n",
        "  ml_builds[i-1].fit(X_new, Y_new)\n",
        "\n",
        "  y_pred = ml_builds[i-1].predict(X_test)\n",
        "  f1_scores.append(f1_score(Y_test, y_pred, average=\"weighted\"))\n",
        "  accuracy_scores.append(accuracy_score(Y_test, y_pred))\n",
        "\n",
        "  print(\"\\nK value = \" + str(i) +  \" --> f1 score = \" + str(f1_scores[i-1]))\n",
        "  print(\"K value = \" + str(i) + \" --> accuracy score = \" + str(accuracy_scores[i-1]))"
      ],
      "metadata": {
        "id": "K8t4-didsw5y",
        "outputId": "181d6074-232c-4d9a-f083-51b6e9110737",
        "colab": {
          "base_uri": "https://localhost:8080/"
        }
      },
      "execution_count": null,
      "outputs": [
        {
          "output_type": "stream",
          "name": "stdout",
          "text": [
            "\n",
            "K value = 1 --> f1 score = 1.0\n",
            "K value = 1 --> accuracy score = 1.0\n",
            "\n",
            "K value = 2 --> f1 score = 1.0\n",
            "K value = 2 --> accuracy score = 1.0\n",
            "\n",
            "K value = 3 --> f1 score = 1.0\n",
            "K value = 3 --> accuracy score = 1.0\n",
            "\n",
            "K value = 4 --> f1 score = 1.0\n",
            "K value = 4 --> accuracy score = 1.0\n",
            "\n",
            "K value = 5 --> f1 score = 1.0\n",
            "K value = 5 --> accuracy score = 1.0\n",
            "\n",
            "K value = 6 --> f1 score = 1.0\n",
            "K value = 6 --> accuracy score = 1.0\n",
            "\n",
            "K value = 7 --> f1 score = 1.0\n",
            "K value = 7 --> accuracy score = 1.0\n",
            "\n",
            "K value = 8 --> f1 score = 1.0\n",
            "K value = 8 --> accuracy score = 1.0\n",
            "\n",
            "K value = 9 --> f1 score = 1.0\n",
            "K value = 9 --> accuracy score = 1.0\n",
            "\n",
            "K value = 10 --> f1 score = 1.0\n",
            "K value = 10 --> accuracy score = 1.0\n",
            "\n",
            "K value = 11 --> f1 score = 1.0\n",
            "K value = 11 --> accuracy score = 1.0\n",
            "\n",
            "K value = 12 --> f1 score = 1.0\n",
            "K value = 12 --> accuracy score = 1.0\n",
            "\n",
            "K value = 13 --> f1 score = 1.0\n",
            "K value = 13 --> accuracy score = 1.0\n"
          ]
        }
      ]
    },
    {
      "cell_type": "code",
      "source": [
        "max_f1 = max(f1_scores)\n",
        "max_accur = max(accuracy_scores)\n",
        "\n",
        "print(\"Max f1 score = \" + str(max_f1) + \" when k = \" + str(f1_scores.index(max_f1)+1))\n",
        "print(\"Max accuracy score = \" + str(max_accur) + \" when k = \" + str(accuracy_scores.index(max_accur)+1))"
      ],
      "metadata": {
        "id": "Mw1WHyk6s3Ks",
        "outputId": "ffad1558-3481-46d3-e7fc-522e10190e38",
        "colab": {
          "base_uri": "https://localhost:8080/"
        }
      },
      "execution_count": null,
      "outputs": [
        {
          "output_type": "stream",
          "name": "stdout",
          "text": [
            "Max f1 score = 1.0 when k = 1\n",
            "Max accuracy score = 1.0 when k = 1\n"
          ]
        }
      ]
    }
  ],
  "metadata": {
    "kernelspec": {
      "display_name": "indept_study",
      "language": "python",
      "name": "indept_study"
    },
    "language_info": {
      "codemirror_mode": {
        "name": "ipython",
        "version": 3
      },
      "file_extension": ".py",
      "mimetype": "text/x-python",
      "name": "python",
      "nbconvert_exporter": "python",
      "pygments_lexer": "ipython3",
      "version": "3.6.5"
    },
    "colab": {
      "name": "Senior Design Live Demo.ipynb",
      "provenance": [],
      "collapsed_sections": []
    }
  },
  "nbformat": 4,
  "nbformat_minor": 0
}
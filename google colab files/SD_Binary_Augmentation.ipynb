{
  "cells": [
    {
      "cell_type": "code",
      "source": [
        "!pip install knnor\n",
        "from knnor import data_augment"
      ],
      "metadata": {
        "colab": {
          "base_uri": "https://localhost:8080/"
        },
        "id": "dqUA3DFfqwVb",
        "outputId": "7585da01-90bb-4328-b85b-fbab5899be1f"
      },
      "execution_count": null,
      "outputs": [
        {
          "output_type": "stream",
          "name": "stdout",
          "text": [
            "Requirement already satisfied: knnor in /usr/local/lib/python3.7/dist-packages (0.0.4)\n",
            "Requirement already satisfied: numpy in /usr/local/lib/python3.7/dist-packages (from knnor) (1.21.5)\n",
            "Requirement already satisfied: scikit-learn in /usr/local/lib/python3.7/dist-packages (from knnor) (1.0.2)\n",
            "Requirement already satisfied: threadpoolctl>=2.0.0 in /usr/local/lib/python3.7/dist-packages (from scikit-learn->knnor) (3.1.0)\n",
            "Requirement already satisfied: joblib>=0.11 in /usr/local/lib/python3.7/dist-packages (from scikit-learn->knnor) (1.1.0)\n",
            "Requirement already satisfied: scipy>=1.1.0 in /usr/local/lib/python3.7/dist-packages (from scikit-learn->knnor) (1.4.1)\n"
          ]
        }
      ]
    },
    {
      "cell_type": "code",
      "execution_count": null,
      "metadata": {
        "id": "zgdx_B7_pQCP"
      },
      "outputs": [],
      "source": [
        "import pandas as pd\n",
        "from collections import Counter\n",
        "import numpy as np\n",
        "import matplotlib.pyplot as plt\n",
        "import io"
      ]
    },
    {
      "cell_type": "markdown",
      "metadata": {
        "id": "byF_6O7LpQCS"
      },
      "source": [
        "# Augementing data for  A"
      ]
    },
    {
      "cell_type": "code",
      "source": [
        "from google.colab import files\n",
        "\n",
        "uploaded = files.upload()"
      ],
      "metadata": {
        "colab": {
          "resources": {
            "http://localhost:8080/nbextensions/google.colab/files.js": {
              "data": "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",
              "ok": true,
              "headers": [
                [
                  "content-type",
                  "application/javascript"
                ]
              ],
              "status": 200,
              "status_text": ""
            }
          },
          "base_uri": "https://localhost:8080/",
          "height": 74
        },
        "id": "b_zms_t_p42F",
        "outputId": "51a0254a-42f3-4299-8b7c-e62f5ed2951f"
      },
      "execution_count": null,
      "outputs": [
        {
          "output_type": "display_data",
          "data": {
            "text/plain": [
              "<IPython.core.display.HTML object>"
            ],
            "text/html": [
              "\n",
              "     <input type=\"file\" id=\"files-6e7e8e85-f2d3-4274-832c-cdd476fc844b\" name=\"files[]\" multiple disabled\n",
              "        style=\"border:none\" />\n",
              "     <output id=\"result-6e7e8e85-f2d3-4274-832c-cdd476fc844b\">\n",
              "      Upload widget is only available when the cell has been executed in the\n",
              "      current browser session. Please rerun this cell to enable.\n",
              "      </output>\n",
              "      <script src=\"/nbextensions/google.colab/files.js\"></script> "
            ]
          },
          "metadata": {}
        },
        {
          "output_type": "stream",
          "name": "stdout",
          "text": [
            "Saving sampleDataSet.csv to sampleDataSet (1).csv\n"
          ]
        }
      ]
    },
    {
      "cell_type": "code",
      "execution_count": null,
      "metadata": {
        "id": "U9gwuuvhpQCU"
      },
      "outputs": [],
      "source": [
        "df=pd.read_csv(\"sampleDataSet.csv\")\n",
        "df = df.dropna()"
      ]
    },
    {
      "cell_type": "code",
      "execution_count": null,
      "metadata": {
        "colab": {
          "base_uri": "https://localhost:8080/",
          "height": 393
        },
        "id": "xdDquTlapQCV",
        "outputId": "d6410c17-741a-461c-d341-ed75f9c0f95d"
      },
      "outputs": [
        {
          "output_type": "execute_result",
          "data": {
            "text/plain": [
              "              PP_1         PP_2         PP_3         PP_4         PP_5  \\\n",
              "count   954.000000   954.000000   954.000000   954.000000   954.000000   \n",
              "mean    490.386792   327.951782   593.343816   605.918239   437.979036   \n",
              "std     272.325831   158.696374   283.185784   339.438657   176.433590   \n",
              "min      43.000000   122.000000   167.000000   167.000000   148.000000   \n",
              "25%     264.000000   218.000000   449.250000   415.000000   283.000000   \n",
              "50%     481.000000   272.000000   568.000000   546.500000   421.500000   \n",
              "75%     664.000000   401.000000   699.000000   713.000000   549.750000   \n",
              "max    1980.000000  1353.000000  4881.000000  4966.000000  1333.000000   \n",
              "\n",
              "              PP_6         PP_7         PP_8         PP_9        PP_10  ...  \\\n",
              "count   954.000000   954.000000   954.000000   954.000000   954.000000  ...   \n",
              "mean    370.981132   567.076520   408.036688   282.044025   451.914046  ...   \n",
              "std     160.468221   272.019133   200.229920   115.646466   225.703570  ...   \n",
              "min     130.000000   198.000000   102.000000   142.000000   133.000000  ...   \n",
              "25%     265.000000   402.000000   252.250000   218.000000   300.000000  ...   \n",
              "50%     332.000000   518.000000   382.000000   252.000000   417.000000  ...   \n",
              "75%     431.000000   657.750000   513.000000   317.750000   533.750000  ...   \n",
              "max    1364.000000  3500.000000  2030.000000  1900.000000  3248.000000  ...   \n",
              "\n",
              "              RP_4         RP_5         RP_6         RP_7         RP_8  \\\n",
              "count   954.000000   954.000000   954.000000   954.000000   954.000000   \n",
              "mean    518.970650   360.030398   285.395178   486.812369   325.198113   \n",
              "std     338.762991   170.458693   154.906051   268.550443   194.699288   \n",
              "min      95.000000    84.000000    52.000000   104.000000     4.000000   \n",
              "25%     319.000000   218.000000   184.000000   320.000000   182.000000   \n",
              "50%     463.000000   349.000000   250.000000   437.000000   299.000000   \n",
              "75%     618.000000   471.250000   350.000000   584.500000   432.000000   \n",
              "max    4853.000000  1300.000000  1316.000000  3402.000000  1932.000000   \n",
              "\n",
              "              RP_9        RP_10        RP_11        RP_12        RP_13  \n",
              "count   954.000000   954.000000   954.000000   954.000000   954.000000  \n",
              "mean    189.159329   371.122642   371.638365   346.564990   195.475891  \n",
              "std     115.321803   219.015566   223.089196   150.108448   166.387031  \n",
              "min      38.000000    41.000000   -54.000000    41.000000    35.000000  \n",
              "25%     121.000000   224.000000   184.000000   238.000000   128.250000  \n",
              "50%     160.000000   346.000000   373.000000   330.000000   164.500000  \n",
              "75%     217.000000   451.000000   518.000000   419.000000   219.000000  \n",
              "max    1804.000000  3149.000000  1636.000000  1270.000000  2486.000000  \n",
              "\n",
              "[8 rows x 53 columns]"
            ],
            "text/html": [
              "\n",
              "  <div id=\"df-7a27a34e-192d-48b5-9eed-7a2992affd6d\">\n",
              "    <div class=\"colab-df-container\">\n",
              "      <div>\n",
              "<style scoped>\n",
              "    .dataframe tbody tr th:only-of-type {\n",
              "        vertical-align: middle;\n",
              "    }\n",
              "\n",
              "    .dataframe tbody tr th {\n",
              "        vertical-align: top;\n",
              "    }\n",
              "\n",
              "    .dataframe thead th {\n",
              "        text-align: right;\n",
              "    }\n",
              "</style>\n",
              "<table border=\"1\" class=\"dataframe\">\n",
              "  <thead>\n",
              "    <tr style=\"text-align: right;\">\n",
              "      <th></th>\n",
              "      <th>PP_1</th>\n",
              "      <th>PP_2</th>\n",
              "      <th>PP_3</th>\n",
              "      <th>PP_4</th>\n",
              "      <th>PP_5</th>\n",
              "      <th>PP_6</th>\n",
              "      <th>PP_7</th>\n",
              "      <th>PP_8</th>\n",
              "      <th>PP_9</th>\n",
              "      <th>PP_10</th>\n",
              "      <th>...</th>\n",
              "      <th>RP_4</th>\n",
              "      <th>RP_5</th>\n",
              "      <th>RP_6</th>\n",
              "      <th>RP_7</th>\n",
              "      <th>RP_8</th>\n",
              "      <th>RP_9</th>\n",
              "      <th>RP_10</th>\n",
              "      <th>RP_11</th>\n",
              "      <th>RP_12</th>\n",
              "      <th>RP_13</th>\n",
              "    </tr>\n",
              "  </thead>\n",
              "  <tbody>\n",
              "    <tr>\n",
              "      <th>count</th>\n",
              "      <td>954.000000</td>\n",
              "      <td>954.000000</td>\n",
              "      <td>954.000000</td>\n",
              "      <td>954.000000</td>\n",
              "      <td>954.000000</td>\n",
              "      <td>954.000000</td>\n",
              "      <td>954.000000</td>\n",
              "      <td>954.000000</td>\n",
              "      <td>954.000000</td>\n",
              "      <td>954.000000</td>\n",
              "      <td>...</td>\n",
              "      <td>954.000000</td>\n",
              "      <td>954.000000</td>\n",
              "      <td>954.000000</td>\n",
              "      <td>954.000000</td>\n",
              "      <td>954.000000</td>\n",
              "      <td>954.000000</td>\n",
              "      <td>954.000000</td>\n",
              "      <td>954.000000</td>\n",
              "      <td>954.000000</td>\n",
              "      <td>954.000000</td>\n",
              "    </tr>\n",
              "    <tr>\n",
              "      <th>mean</th>\n",
              "      <td>490.386792</td>\n",
              "      <td>327.951782</td>\n",
              "      <td>593.343816</td>\n",
              "      <td>605.918239</td>\n",
              "      <td>437.979036</td>\n",
              "      <td>370.981132</td>\n",
              "      <td>567.076520</td>\n",
              "      <td>408.036688</td>\n",
              "      <td>282.044025</td>\n",
              "      <td>451.914046</td>\n",
              "      <td>...</td>\n",
              "      <td>518.970650</td>\n",
              "      <td>360.030398</td>\n",
              "      <td>285.395178</td>\n",
              "      <td>486.812369</td>\n",
              "      <td>325.198113</td>\n",
              "      <td>189.159329</td>\n",
              "      <td>371.122642</td>\n",
              "      <td>371.638365</td>\n",
              "      <td>346.564990</td>\n",
              "      <td>195.475891</td>\n",
              "    </tr>\n",
              "    <tr>\n",
              "      <th>std</th>\n",
              "      <td>272.325831</td>\n",
              "      <td>158.696374</td>\n",
              "      <td>283.185784</td>\n",
              "      <td>339.438657</td>\n",
              "      <td>176.433590</td>\n",
              "      <td>160.468221</td>\n",
              "      <td>272.019133</td>\n",
              "      <td>200.229920</td>\n",
              "      <td>115.646466</td>\n",
              "      <td>225.703570</td>\n",
              "      <td>...</td>\n",
              "      <td>338.762991</td>\n",
              "      <td>170.458693</td>\n",
              "      <td>154.906051</td>\n",
              "      <td>268.550443</td>\n",
              "      <td>194.699288</td>\n",
              "      <td>115.321803</td>\n",
              "      <td>219.015566</td>\n",
              "      <td>223.089196</td>\n",
              "      <td>150.108448</td>\n",
              "      <td>166.387031</td>\n",
              "    </tr>\n",
              "    <tr>\n",
              "      <th>min</th>\n",
              "      <td>43.000000</td>\n",
              "      <td>122.000000</td>\n",
              "      <td>167.000000</td>\n",
              "      <td>167.000000</td>\n",
              "      <td>148.000000</td>\n",
              "      <td>130.000000</td>\n",
              "      <td>198.000000</td>\n",
              "      <td>102.000000</td>\n",
              "      <td>142.000000</td>\n",
              "      <td>133.000000</td>\n",
              "      <td>...</td>\n",
              "      <td>95.000000</td>\n",
              "      <td>84.000000</td>\n",
              "      <td>52.000000</td>\n",
              "      <td>104.000000</td>\n",
              "      <td>4.000000</td>\n",
              "      <td>38.000000</td>\n",
              "      <td>41.000000</td>\n",
              "      <td>-54.000000</td>\n",
              "      <td>41.000000</td>\n",
              "      <td>35.000000</td>\n",
              "    </tr>\n",
              "    <tr>\n",
              "      <th>25%</th>\n",
              "      <td>264.000000</td>\n",
              "      <td>218.000000</td>\n",
              "      <td>449.250000</td>\n",
              "      <td>415.000000</td>\n",
              "      <td>283.000000</td>\n",
              "      <td>265.000000</td>\n",
              "      <td>402.000000</td>\n",
              "      <td>252.250000</td>\n",
              "      <td>218.000000</td>\n",
              "      <td>300.000000</td>\n",
              "      <td>...</td>\n",
              "      <td>319.000000</td>\n",
              "      <td>218.000000</td>\n",
              "      <td>184.000000</td>\n",
              "      <td>320.000000</td>\n",
              "      <td>182.000000</td>\n",
              "      <td>121.000000</td>\n",
              "      <td>224.000000</td>\n",
              "      <td>184.000000</td>\n",
              "      <td>238.000000</td>\n",
              "      <td>128.250000</td>\n",
              "    </tr>\n",
              "    <tr>\n",
              "      <th>50%</th>\n",
              "      <td>481.000000</td>\n",
              "      <td>272.000000</td>\n",
              "      <td>568.000000</td>\n",
              "      <td>546.500000</td>\n",
              "      <td>421.500000</td>\n",
              "      <td>332.000000</td>\n",
              "      <td>518.000000</td>\n",
              "      <td>382.000000</td>\n",
              "      <td>252.000000</td>\n",
              "      <td>417.000000</td>\n",
              "      <td>...</td>\n",
              "      <td>463.000000</td>\n",
              "      <td>349.000000</td>\n",
              "      <td>250.000000</td>\n",
              "      <td>437.000000</td>\n",
              "      <td>299.000000</td>\n",
              "      <td>160.000000</td>\n",
              "      <td>346.000000</td>\n",
              "      <td>373.000000</td>\n",
              "      <td>330.000000</td>\n",
              "      <td>164.500000</td>\n",
              "    </tr>\n",
              "    <tr>\n",
              "      <th>75%</th>\n",
              "      <td>664.000000</td>\n",
              "      <td>401.000000</td>\n",
              "      <td>699.000000</td>\n",
              "      <td>713.000000</td>\n",
              "      <td>549.750000</td>\n",
              "      <td>431.000000</td>\n",
              "      <td>657.750000</td>\n",
              "      <td>513.000000</td>\n",
              "      <td>317.750000</td>\n",
              "      <td>533.750000</td>\n",
              "      <td>...</td>\n",
              "      <td>618.000000</td>\n",
              "      <td>471.250000</td>\n",
              "      <td>350.000000</td>\n",
              "      <td>584.500000</td>\n",
              "      <td>432.000000</td>\n",
              "      <td>217.000000</td>\n",
              "      <td>451.000000</td>\n",
              "      <td>518.000000</td>\n",
              "      <td>419.000000</td>\n",
              "      <td>219.000000</td>\n",
              "    </tr>\n",
              "    <tr>\n",
              "      <th>max</th>\n",
              "      <td>1980.000000</td>\n",
              "      <td>1353.000000</td>\n",
              "      <td>4881.000000</td>\n",
              "      <td>4966.000000</td>\n",
              "      <td>1333.000000</td>\n",
              "      <td>1364.000000</td>\n",
              "      <td>3500.000000</td>\n",
              "      <td>2030.000000</td>\n",
              "      <td>1900.000000</td>\n",
              "      <td>3248.000000</td>\n",
              "      <td>...</td>\n",
              "      <td>4853.000000</td>\n",
              "      <td>1300.000000</td>\n",
              "      <td>1316.000000</td>\n",
              "      <td>3402.000000</td>\n",
              "      <td>1932.000000</td>\n",
              "      <td>1804.000000</td>\n",
              "      <td>3149.000000</td>\n",
              "      <td>1636.000000</td>\n",
              "      <td>1270.000000</td>\n",
              "      <td>2486.000000</td>\n",
              "    </tr>\n",
              "  </tbody>\n",
              "</table>\n",
              "<p>8 rows × 53 columns</p>\n",
              "</div>\n",
              "      <button class=\"colab-df-convert\" onclick=\"convertToInteractive('df-7a27a34e-192d-48b5-9eed-7a2992affd6d')\"\n",
              "              title=\"Convert this dataframe to an interactive table.\"\n",
              "              style=\"display:none;\">\n",
              "        \n",
              "  <svg xmlns=\"http://www.w3.org/2000/svg\" height=\"24px\"viewBox=\"0 0 24 24\"\n",
              "       width=\"24px\">\n",
              "    <path d=\"M0 0h24v24H0V0z\" fill=\"none\"/>\n",
              "    <path d=\"M18.56 5.44l.94 2.06.94-2.06 2.06-.94-2.06-.94-.94-2.06-.94 2.06-2.06.94zm-11 1L8.5 8.5l.94-2.06 2.06-.94-2.06-.94L8.5 2.5l-.94 2.06-2.06.94zm10 10l.94 2.06.94-2.06 2.06-.94-2.06-.94-.94-2.06-.94 2.06-2.06.94z\"/><path d=\"M17.41 7.96l-1.37-1.37c-.4-.4-.92-.59-1.43-.59-.52 0-1.04.2-1.43.59L10.3 9.45l-7.72 7.72c-.78.78-.78 2.05 0 2.83L4 21.41c.39.39.9.59 1.41.59.51 0 1.02-.2 1.41-.59l7.78-7.78 2.81-2.81c.8-.78.8-2.07 0-2.86zM5.41 20L4 18.59l7.72-7.72 1.47 1.35L5.41 20z\"/>\n",
              "  </svg>\n",
              "      </button>\n",
              "      \n",
              "  <style>\n",
              "    .colab-df-container {\n",
              "      display:flex;\n",
              "      flex-wrap:wrap;\n",
              "      gap: 12px;\n",
              "    }\n",
              "\n",
              "    .colab-df-convert {\n",
              "      background-color: #E8F0FE;\n",
              "      border: none;\n",
              "      border-radius: 50%;\n",
              "      cursor: pointer;\n",
              "      display: none;\n",
              "      fill: #1967D2;\n",
              "      height: 32px;\n",
              "      padding: 0 0 0 0;\n",
              "      width: 32px;\n",
              "    }\n",
              "\n",
              "    .colab-df-convert:hover {\n",
              "      background-color: #E2EBFA;\n",
              "      box-shadow: 0px 1px 2px rgba(60, 64, 67, 0.3), 0px 1px 3px 1px rgba(60, 64, 67, 0.15);\n",
              "      fill: #174EA6;\n",
              "    }\n",
              "\n",
              "    [theme=dark] .colab-df-convert {\n",
              "      background-color: #3B4455;\n",
              "      fill: #D2E3FC;\n",
              "    }\n",
              "\n",
              "    [theme=dark] .colab-df-convert:hover {\n",
              "      background-color: #434B5C;\n",
              "      box-shadow: 0px 1px 3px 1px rgba(0, 0, 0, 0.15);\n",
              "      filter: drop-shadow(0px 1px 2px rgba(0, 0, 0, 0.3));\n",
              "      fill: #FFFFFF;\n",
              "    }\n",
              "  </style>\n",
              "\n",
              "      <script>\n",
              "        const buttonEl =\n",
              "          document.querySelector('#df-7a27a34e-192d-48b5-9eed-7a2992affd6d button.colab-df-convert');\n",
              "        buttonEl.style.display =\n",
              "          google.colab.kernel.accessAllowed ? 'block' : 'none';\n",
              "\n",
              "        async function convertToInteractive(key) {\n",
              "          const element = document.querySelector('#df-7a27a34e-192d-48b5-9eed-7a2992affd6d');\n",
              "          const dataTable =\n",
              "            await google.colab.kernel.invokeFunction('convertToInteractive',\n",
              "                                                     [key], {});\n",
              "          if (!dataTable) return;\n",
              "\n",
              "          const docLinkHtml = 'Like what you see? Visit the ' +\n",
              "            '<a target=\"_blank\" href=https://colab.research.google.com/notebooks/data_table.ipynb>data table notebook</a>'\n",
              "            + ' to learn more about interactive tables.';\n",
              "          element.innerHTML = '';\n",
              "          dataTable['output_type'] = 'display_data';\n",
              "          await google.colab.output.renderOutput(dataTable, element);\n",
              "          const docLink = document.createElement('div');\n",
              "          docLink.innerHTML = docLinkHtml;\n",
              "          element.appendChild(docLink);\n",
              "        }\n",
              "      </script>\n",
              "    </div>\n",
              "  </div>\n",
              "  "
            ]
          },
          "metadata": {},
          "execution_count": 48
        }
      ],
      "source": [
        "df.describe()"
      ]
    },
    {
      "cell_type": "code",
      "source": [
        "df.info"
      ],
      "metadata": {
        "colab": {
          "base_uri": "https://localhost:8080/"
        },
        "id": "r9It-mrKqgYq",
        "outputId": "82753ad9-fd57-4079-caa6-6cb10ec7ee7f"
      },
      "execution_count": null,
      "outputs": [
        {
          "output_type": "execute_result",
          "data": {
            "text/plain": [
              "<bound method DataFrame.info of       PP_1   PP_2   PP_3    PP_4   PP_5   PP_6   PP_7   PP_8   PP_9  PP_10  \\\n",
              "0    665.0  235.0  651.0  1080.0  650.0  649.0  801.0  763.0  318.0  717.0   \n",
              "1    749.0  251.0  682.0   850.0  614.0  314.0  736.0  763.0  303.0  582.0   \n",
              "2    648.0  268.0  617.0   866.0  663.0  416.0  635.0  714.0  284.0  532.0   \n",
              "3    781.0  218.0  534.0   531.0  398.0  384.0  534.0  746.0  286.0  565.0   \n",
              "4    615.0  235.0  899.0   599.0  515.0  433.0  449.0  714.0  254.0  531.0   \n",
              "..     ...    ...    ...     ...    ...    ...    ...    ...    ...    ...   \n",
              "949  396.0  236.0  650.0   513.0  266.0  298.0  534.0  480.0  285.0  249.0   \n",
              "950  431.0  302.0  598.0   599.0  230.0  266.0  435.0  446.0  352.0  398.0   \n",
              "951  446.0  221.0  564.0   448.0  415.0  316.0  633.0  331.0  267.0  382.0   \n",
              "952  496.0  219.0  617.0  1015.0  381.0  381.0  402.0  413.0  235.0  365.0   \n",
              "953  397.0  202.0  532.0   466.0  265.0  333.0  416.0  365.0  219.0  463.0   \n",
              "\n",
              "     ...   RP_5   RP_6   RP_7   RP_8   RP_9  RP_10  RP_11  RP_12  RP_13  Class  \n",
              "0    ...  580.0  568.0  720.0  666.0  219.0  618.0  829.0  347.0  303.0      A  \n",
              "1    ...  546.0  267.0  670.0  695.0  205.0  502.0  618.0  687.0  200.0      A  \n",
              "2    ...  600.0  350.0  553.0  651.0  187.0  452.0  649.0  403.0  171.0      A  \n",
              "3    ...  346.0  318.0  482.0  648.0  204.0  453.0  516.0  370.0  270.0      A  \n",
              "4    ...  434.0  369.0  383.0  583.0  155.0  448.0  663.0  354.0  162.0      A  \n",
              "..   ...    ...    ...    ...    ...    ...    ...    ...    ...    ...    ...  \n",
              "949  ...  184.0  217.0  453.0  400.0  171.0  148.0  349.0  369.0  147.0     YY  \n",
              "950  ...  190.0  184.0  354.0  378.0  220.0  318.0  392.0  286.0  120.0     YY  \n",
              "951  ...  317.0  273.0  535.0  265.0  119.0  284.0  334.0  336.0  120.0     YY  \n",
              "952  ...  317.0  299.0  328.0  348.0  120.0  263.0  366.0  303.0  103.0     YY  \n",
              "953  ...  167.0  218.0  352.0  282.0  121.0  368.0  283.0  403.0  115.0     YY  \n",
              "\n",
              "[954 rows x 54 columns]>"
            ]
          },
          "metadata": {},
          "execution_count": 49
        }
      ]
    },
    {
      "cell_type": "code",
      "execution_count": null,
      "metadata": {
        "colab": {
          "base_uri": "https://localhost:8080/"
        },
        "id": "Whj2R0k6pQCW",
        "outputId": "cb669950-85be-4bf3-8a82-3215fc7d01fb"
      },
      "outputs": [
        {
          "output_type": "execute_result",
          "data": {
            "text/plain": [
              "(954, 54)"
            ]
          },
          "metadata": {},
          "execution_count": 50
        }
      ],
      "source": [
        "df.shape"
      ]
    },
    {
      "cell_type": "code",
      "execution_count": null,
      "metadata": {
        "colab": {
          "base_uri": "https://localhost:8080/"
        },
        "id": "jJjXlrJ2pQCW",
        "outputId": "b77b434f-b5a9-4fdb-8c4e-0d8e8691f1cf"
      },
      "outputs": [
        {
          "output_type": "execute_result",
          "data": {
            "text/plain": [
              "array(['A', 'B', 'C', 'D', 'E', 'F', 'G', 'H', 'I', 'J', 'K', 'L', 'M',\n",
              "       'N', 'O', 'P', 'Q', 'R', 'S', 'T', 'U', 'V', 'W', 'X', 'Y', 'Z',\n",
              "       'AA', 'BB', 'CC', 'DD', 'EE', 'FF', 'GG', 'HH', 'II', 'JJ', 'KK',\n",
              "       'LL', 'MM', 'NN', 'OO', 'PP', 'QQ', 'RR', 'SS', 'TT', 'UU', 'V V',\n",
              "       'WW', 'XX', 'YY'], dtype=object)"
            ]
          },
          "metadata": {},
          "execution_count": 51
        }
      ],
      "source": [
        "df.Class.unique()"
      ]
    },
    {
      "cell_type": "code",
      "execution_count": null,
      "metadata": {
        "id": "PbWgUzLLpQCX"
      },
      "outputs": [],
      "source": [
        "list_to_replace=[\n",
        "    'B', 'C', 'D', 'E', 'F', 'G', 'H', 'I', 'J', 'K', 'L', 'M',\n",
        "       'N', 'O', 'P', 'Q', 'R', 'S', 'T', 'U', 'V', 'W', 'X', 'Y', 'Z',\n",
        "       'AA', 'BB', 'CC', 'DD', 'EE', 'FF', 'GG', 'HH', 'II', 'JJ', 'KK',\n",
        "       'LL', 'MM', 'NN', 'OO', 'PP', 'QQ', 'RR', 'SS', 'TT', 'UU', 'V V',\n",
        "       'WW', 'XX', 'YY'\n",
        "]\n",
        "\n",
        "list_replaced_with=[1 for i in range(len(list_to_replace))]"
      ]
    },
    {
      "cell_type": "code",
      "execution_count": null,
      "metadata": {
        "id": "i0gKI69IpQCY"
      },
      "outputs": [],
      "source": [
        "# list_replaced_with"
      ]
    },
    {
      "cell_type": "code",
      "execution_count": null,
      "metadata": {
        "id": "opJCE4R1pQCZ"
      },
      "outputs": [],
      "source": [
        "df[['Class']] = df[['Class']].replace(list_to_replace, list_replaced_with)"
      ]
    },
    {
      "cell_type": "code",
      "execution_count": null,
      "metadata": {
        "id": "Ae5pgqSXpQCZ"
      },
      "outputs": [],
      "source": [
        "df[['Class']] = df[['Class']].replace([\"A\"], [0])"
      ]
    },
    {
      "cell_type": "code",
      "execution_count": null,
      "metadata": {
        "id": "WHTZ3QTWpQCb"
      },
      "outputs": [],
      "source": [
        "x=df.iloc[:,:-1].values\n",
        "y=df.iloc[:,-1].values"
      ]
    },
    {
      "cell_type": "code",
      "execution_count": null,
      "metadata": {
        "colab": {
          "base_uri": "https://localhost:8080/"
        },
        "id": "xVh3dYCspQCb",
        "outputId": "8660798a-addf-42a5-ee8b-1aec3e73ec9c"
      },
      "outputs": [
        {
          "output_type": "execute_result",
          "data": {
            "text/plain": [
              "(954, 53)"
            ]
          },
          "metadata": {},
          "execution_count": 57
        }
      ],
      "source": [
        "X.shape"
      ]
    },
    {
      "cell_type": "code",
      "execution_count": null,
      "metadata": {
        "colab": {
          "base_uri": "https://localhost:8080/"
        },
        "id": "8hfXjFcmpQCb",
        "outputId": "e994326c-fb61-419b-a427-ad94ce13e35d"
      },
      "outputs": [
        {
          "output_type": "stream",
          "name": "stdout",
          "text": [
            "Initial distribution:\n",
            "1: 18\n",
            "0: 936\n"
          ]
        }
      ],
      "source": [
        "elements_count = Counter(y)\n",
        "# printing the element and the frequency\n",
        "print(\"Initial distribution:\")\n",
        "for key, value in elements_count.items():\n",
        "    print(f\"{key}: {value}\")\n"
      ]
    },
    {
      "cell_type": "markdown",
      "source": [
        "Splitting Data for training and testing 60/40"
      ],
      "metadata": {
        "id": "Jv-r461srNgq"
      }
    },
    {
      "cell_type": "code",
      "source": [
        "#splitting data for training and testing 60/40\n",
        "from sklearn.model_selection import train_test_split\n",
        "\n",
        "X_train, X_test, Y_train, Y_test = train_test_split(x, y, test_size=0.40)"
      ],
      "metadata": {
        "id": "jg7lI1xlrLMC"
      },
      "execution_count": null,
      "outputs": []
    },
    {
      "cell_type": "markdown",
      "source": [
        "Normalizing Data"
      ],
      "metadata": {
        "id": "vRBhGAm1ri-b"
      }
    },
    {
      "cell_type": "code",
      "source": [
        "# Normalizing Data\n",
        "from sklearn.preprocessing import StandardScaler\n",
        "\n",
        "scaler = StandardScaler()\n",
        "scaler.fit(X_train)\n",
        "X_train = scaler.transform(X_train)\n",
        "X_test = scaler.transform(X_test)"
      ],
      "metadata": {
        "id": "7DPibrHTref8"
      },
      "execution_count": null,
      "outputs": []
    },
    {
      "cell_type": "markdown",
      "source": [
        "Augment Data"
      ],
      "metadata": {
        "id": "lqiYXjq_rvY5"
      }
    },
    {
      "cell_type": "code",
      "execution_count": null,
      "metadata": {
        "colab": {
          "base_uri": "https://localhost:8080/"
        },
        "id": "pTvsGXGipQCc",
        "outputId": "70a300f5-f3a8-4d20-9357-9ce322658bfb"
      },
      "outputs": [
        {
          "output_type": "stream",
          "name": "stdout",
          "text": [
            "563 9 (572,)\n",
            "563 9 (572,)\n"
          ]
        }
      ],
      "source": [
        "#Augment Data \n",
        "knnor = data_augment.KNNOR()\n",
        "\n",
        "X_new,y_new,_,_=knnor.fit_resample(X_train,Y_train)"
      ]
    },
    {
      "cell_type": "code",
      "execution_count": null,
      "metadata": {
        "colab": {
          "base_uri": "https://localhost:8080/"
        },
        "id": "nuF0QSUGpQCc",
        "outputId": "528405c0-a713-446f-92ab-0d7a01505703"
      },
      "outputs": [
        {
          "output_type": "execute_result",
          "data": {
            "text/plain": [
              "(1126, 53)"
            ]
          },
          "metadata": {},
          "execution_count": 62
        }
      ],
      "source": [
        "X_new.shape"
      ]
    },
    {
      "cell_type": "code",
      "execution_count": null,
      "metadata": {
        "colab": {
          "base_uri": "https://localhost:8080/"
        },
        "id": "BLIrhGRYpQCc",
        "outputId": "91a85f84-641a-4c57-d666-3cacfc02a34f"
      },
      "outputs": [
        {
          "output_type": "stream",
          "name": "stdout",
          "text": [
            "Final distribution:\n",
            "0: 563\n",
            "1: 563\n"
          ]
        }
      ],
      "source": [
        "\n",
        "\n",
        "elements_count = Counter(y_new)\n",
        "# printing the element and the frequency\n",
        "print(\"Final distribution:\")\n",
        "for key, value in elements_count.items():\n",
        "    print(f\"{key}: {value}\")\n"
      ]
    },
    {
      "cell_type": "markdown",
      "metadata": {
        "id": "8lZctnvQpQCh"
      },
      "source": [
        "### kNN algorthim "
      ]
    },
    {
      "cell_type": "code",
      "source": [
        "# kNN algorithm \n",
        "from sklearn.neighbors import KNeighborsClassifier\n",
        "\n",
        "classifier = KNeighborsClassifier(n_neighbors=33)  # k determined by sqrt(1122) where 1122 is the number of samples \n",
        "classifier.fit(X_new, y_new)"
      ],
      "metadata": {
        "colab": {
          "base_uri": "https://localhost:8080/"
        },
        "id": "puC-CyB0sM_D",
        "outputId": "d9f1ff41-b9a9-47d9-b160-7dfe61dc30b8"
      },
      "execution_count": null,
      "outputs": [
        {
          "output_type": "execute_result",
          "data": {
            "text/plain": [
              "KNeighborsClassifier(n_neighbors=33)"
            ]
          },
          "metadata": {},
          "execution_count": 64
        }
      ]
    },
    {
      "cell_type": "code",
      "source": [
        "y_pred = classifier.predict(X_test)"
      ],
      "metadata": {
        "id": "10O3FNcBsit7"
      },
      "execution_count": null,
      "outputs": []
    },
    {
      "cell_type": "code",
      "source": [
        "from sklearn.metrics import classification_report, confusion_matrix\n",
        "\n",
        "print(classification_report(Y_test, y_pred))\n",
        "print(confusion_matrix(Y_test, y_pred))"
      ],
      "metadata": {
        "colab": {
          "base_uri": "https://localhost:8080/"
        },
        "id": "EZeqromFsmdy",
        "outputId": "09fcd6c5-a0c9-4ef6-a9c7-d67629d14407"
      },
      "execution_count": null,
      "outputs": [
        {
          "output_type": "stream",
          "name": "stdout",
          "text": [
            "              precision    recall  f1-score   support\n",
            "\n",
            "           0       1.00      0.79      0.88       373\n",
            "           1       0.10      1.00      0.18         9\n",
            "\n",
            "    accuracy                           0.79       382\n",
            "   macro avg       0.55      0.89      0.53       382\n",
            "weighted avg       0.98      0.79      0.86       382\n",
            "\n",
            "[[293  80]\n",
            " [  0   9]]\n"
          ]
        }
      ]
    },
    {
      "cell_type": "code",
      "source": [
        "confusion_matrix(Y_test, y_pred, labels=[0, 1])"
      ],
      "metadata": {
        "colab": {
          "base_uri": "https://localhost:8080/"
        },
        "id": "UwjTam6rzi-H",
        "outputId": "25919605-a35d-44c6-cf90-2c3904313f38"
      },
      "execution_count": null,
      "outputs": [
        {
          "output_type": "execute_result",
          "data": {
            "text/plain": [
              "array([[293,  80],\n",
              "       [  0,   9]])"
            ]
          },
          "metadata": {},
          "execution_count": 67
        }
      ]
    },
    {
      "cell_type": "code",
      "source": [
        "tn, fp, fn, tp = confusion_matrix(Y_test, y_pred).ravel()\n",
        "(tn, fp, fn, tp)"
      ],
      "metadata": {
        "colab": {
          "base_uri": "https://localhost:8080/"
        },
        "id": "d4CeBwBeywUG",
        "outputId": "84a76fc2-8048-4056-eea8-47f5461ecda0"
      },
      "execution_count": null,
      "outputs": [
        {
          "output_type": "execute_result",
          "data": {
            "text/plain": [
              "(293, 80, 0, 9)"
            ]
          },
          "metadata": {},
          "execution_count": 68
        }
      ]
    },
    {
      "cell_type": "code",
      "source": [
        "from sklearn.metrics import f1_score, accuracy_score\n",
        "\n",
        "print(f1_score(Y_test, y_pred, average=\"weighted\"))\n",
        "print(accuracy_score(Y_test, y_pred))"
      ],
      "metadata": {
        "colab": {
          "base_uri": "https://localhost:8080/"
        },
        "id": "R5YL7cUxsr0K",
        "outputId": "8100fc36-5989-4214-b112-094fc08ff092"
      },
      "execution_count": null,
      "outputs": [
        {
          "output_type": "stream",
          "name": "stdout",
          "text": [
            "0.8634771110462959\n",
            "0.7905759162303665\n"
          ]
        }
      ]
    },
    {
      "cell_type": "code",
      "source": [
        "ml_builds = []\n",
        "f1_scores = []\n",
        "accuracy_scores = []\n",
        "\n",
        "for i in range(1,34):\n",
        "\n",
        "  ml_builds.append(KNeighborsClassifier(n_neighbors=i))  # k value set \n",
        "  ml_builds[i-1].fit(X_new, y_new)\n",
        "\n",
        "  y_pred = ml_builds[i-1].predict(X_test)\n",
        "  f1_scores.append(f1_score(Y_test, y_pred, average=\"weighted\"))\n",
        "  accuracy_scores.append(accuracy_score(Y_test, y_pred))\n",
        "\n",
        "  print(\"\\nK value = \" + str(i) +  \" --> f1 score = \" + str(f1_scores[i-1]))\n",
        "  print(\"K value = \" + str(i) + \" --> accuracy score = \" + str(accuracy_scores[i-1]))"
      ],
      "metadata": {
        "colab": {
          "base_uri": "https://localhost:8080/"
        },
        "id": "K8t4-didsw5y",
        "outputId": "701922a3-78f5-43e5-fcaa-efce9326b261"
      },
      "execution_count": null,
      "outputs": [
        {
          "output_type": "stream",
          "name": "stdout",
          "text": [
            "\n",
            "K value = 1 --> f1 score = 0.9815904910145749\n",
            "K value = 1 --> accuracy score = 0.9790575916230366\n",
            "\n",
            "K value = 2 --> f1 score = 0.9815904910145749\n",
            "K value = 2 --> accuracy score = 0.9790575916230366\n",
            "\n",
            "K value = 3 --> f1 score = 0.9640771532132789\n",
            "K value = 3 --> accuracy score = 0.9528795811518325\n",
            "\n",
            "K value = 4 --> f1 score = 0.9640771532132789\n",
            "K value = 4 --> accuracy score = 0.9528795811518325\n",
            "\n",
            "K value = 5 --> f1 score = 0.955720897175516\n",
            "K value = 5 --> accuracy score = 0.9397905759162304\n",
            "\n",
            "K value = 6 --> f1 score = 0.955720897175516\n",
            "K value = 6 --> accuracy score = 0.9397905759162304\n",
            "\n",
            "K value = 7 --> f1 score = 0.9475805710147887\n",
            "K value = 7 --> accuracy score = 0.9267015706806283\n",
            "\n",
            "K value = 8 --> f1 score = 0.9475805710147887\n",
            "K value = 8 --> accuracy score = 0.9267015706806283\n",
            "\n",
            "K value = 9 --> f1 score = 0.9347835705331466\n",
            "K value = 9 --> accuracy score = 0.9057591623036649\n",
            "\n",
            "K value = 10 --> f1 score = 0.9347835705331466\n",
            "K value = 10 --> accuracy score = 0.9057591623036649\n",
            "\n",
            "K value = 11 --> f1 score = 0.9268417909170265\n",
            "K value = 11 --> accuracy score = 0.8926701570680629\n",
            "\n",
            "K value = 12 --> f1 score = 0.9268417909170265\n",
            "K value = 12 --> accuracy score = 0.8926701570680629\n",
            "\n",
            "K value = 13 --> f1 score = 0.9204896947090223\n",
            "K value = 13 --> accuracy score = 0.8821989528795812\n",
            "\n",
            "K value = 14 --> f1 score = 0.9204896947090223\n",
            "K value = 14 --> accuracy score = 0.8821989528795812\n",
            "\n",
            "K value = 15 --> f1 score = 0.9157175802490013\n",
            "K value = 15 --> accuracy score = 0.8743455497382199\n",
            "\n",
            "K value = 16 --> f1 score = 0.9157175802490013\n",
            "K value = 16 --> accuracy score = 0.8743455497382199\n",
            "\n",
            "K value = 17 --> f1 score = 0.9093354945369972\n",
            "K value = 17 --> accuracy score = 0.8638743455497382\n",
            "\n",
            "K value = 18 --> f1 score = 0.9093354945369972\n",
            "K value = 18 --> accuracy score = 0.8638743455497382\n",
            "\n",
            "K value = 19 --> f1 score = 0.9029233649766315\n",
            "K value = 19 --> accuracy score = 0.8534031413612565\n",
            "\n",
            "K value = 20 --> f1 score = 0.9029233649766315\n",
            "K value = 20 --> accuracy score = 0.8534031413612565\n",
            "\n",
            "K value = 21 --> f1 score = 0.8948549071131723\n",
            "K value = 21 --> accuracy score = 0.8403141361256544\n",
            "\n",
            "K value = 22 --> f1 score = 0.8948549071131723\n",
            "K value = 22 --> accuracy score = 0.8403141361256544\n",
            "\n",
            "K value = 23 --> f1 score = 0.8883501346299003\n",
            "K value = 23 --> accuracy score = 0.8298429319371727\n",
            "\n",
            "K value = 24 --> f1 score = 0.8883501346299003\n",
            "K value = 24 --> accuracy score = 0.8298429319371727\n",
            "\n",
            "K value = 25 --> f1 score = 0.883438982805517\n",
            "K value = 25 --> accuracy score = 0.8219895287958116\n",
            "\n",
            "K value = 26 --> f1 score = 0.883438982805517\n",
            "K value = 26 --> accuracy score = 0.8219895287958116\n",
            "\n",
            "K value = 27 --> f1 score = 0.883438982805517\n",
            "K value = 27 --> accuracy score = 0.8219895287958116\n",
            "\n",
            "K value = 28 --> f1 score = 0.883438982805517\n",
            "K value = 28 --> accuracy score = 0.8219895287958116\n",
            "\n",
            "K value = 29 --> f1 score = 0.8751860774685821\n",
            "K value = 29 --> accuracy score = 0.8089005235602095\n",
            "\n",
            "K value = 30 --> f1 score = 0.8751860774685821\n",
            "K value = 30 --> accuracy score = 0.8089005235602095\n",
            "\n",
            "K value = 31 --> f1 score = 0.8701909855867151\n",
            "K value = 31 --> accuracy score = 0.8010471204188482\n",
            "\n",
            "K value = 32 --> f1 score = 0.8701909855867151\n",
            "K value = 32 --> accuracy score = 0.8010471204188482\n",
            "\n",
            "K value = 33 --> f1 score = 0.8634771110462959\n",
            "K value = 33 --> accuracy score = 0.7905759162303665\n"
          ]
        }
      ]
    },
    {
      "cell_type": "code",
      "source": [
        "max_f1 = max(f1_scores)\n",
        "max_accur = max(accuracy_scores)\n",
        "\n",
        "print(\"Max f1 score = \" + str(max_f1) + \" when k = \" + str(f1_scores.index(max_f1)+1))\n",
        "print(\"Max accuracy score = \" + str(max_accur) + \" when k = \" + str(accuracy_scores.index(max_accur)+1))"
      ],
      "metadata": {
        "colab": {
          "base_uri": "https://localhost:8080/"
        },
        "id": "Mw1WHyk6s3Ks",
        "outputId": "9d81f828-0c8a-4e40-d4f5-d3650d1178df"
      },
      "execution_count": null,
      "outputs": [
        {
          "output_type": "stream",
          "name": "stdout",
          "text": [
            "Max f1 score = 0.9815904910145749 when k = 1\n",
            "Max accuracy score = 0.9790575916230366 when k = 1\n"
          ]
        }
      ]
    }
  ],
  "metadata": {
    "kernelspec": {
      "display_name": "indept_study",
      "language": "python",
      "name": "indept_study"
    },
    "language_info": {
      "codemirror_mode": {
        "name": "ipython",
        "version": 3
      },
      "file_extension": ".py",
      "mimetype": "text/x-python",
      "name": "python",
      "nbconvert_exporter": "python",
      "pygments_lexer": "ipython3",
      "version": "3.6.5"
    },
    "colab": {
      "name": "SD - Binary_Augmentation.ipynb",
      "provenance": []
    }
  },
  "nbformat": 4,
  "nbformat_minor": 0
}